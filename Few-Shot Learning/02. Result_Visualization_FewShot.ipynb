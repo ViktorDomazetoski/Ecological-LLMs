{
 "cells": [
  {
   "cell_type": "markdown",
   "metadata": {},
   "source": [
    "# Libraries & Functions"
   ]
  },
  {
   "cell_type": "code",
   "execution_count": 1,
   "metadata": {},
   "outputs": [],
   "source": [
    "'''Math & Data Libraries'''\n",
    "import numpy as np\n",
    "import pandas as pd"
   ]
  },
  {
   "cell_type": "code",
   "execution_count": 2,
   "metadata": {},
   "outputs": [],
   "source": [
    "'''Visualization Libraries'''\n",
    "import matplotlib.pyplot as plt\n",
    "import seaborn as sns\n",
    "from PIL import Image\n",
    "\n",
    "sns.set_style(\"whitegrid\", {\"grid.color\": \"0.5\", \"axes.edgecolor\": \"0.2\"})\n",
    "color_palette = [\"#FF8853\", \"#FFE174\", \"#007597\", \"#C1C36D\", \"#00A697\", \"#BC97E0\", \"#ffc0bf\"] #[ \"#007597\", \"#FF8853\", \"#C1C36D\", \"#FFE174\",\"#00A697\", \"#BC97E0\", \"#ffc0bf\"]\n",
    "sns.set_palette(sns.color_palette(color_palette))"
   ]
  },
  {
   "cell_type": "code",
   "execution_count": 3,
   "metadata": {},
   "outputs": [],
   "source": [
    "def show_values_on_bars(axs, size=14):\n",
    "    def _show_on_single_plot(ax, size=size):        \n",
    "        for p in ax.patches:\n",
    "            _x = p.get_x() + p.get_width() / 2\n",
    "            _y = max(p.get_y() + p.get_height() - 0.15, 0.1)\n",
    "            value = '{:.2f}'.format(p.get_height())\n",
    "            # print(_y, p.get_facecolor())\n",
    "            blue_col = p.get_facecolor()[2]\n",
    "            green_col = p.get_facecolor()[1]\n",
    "#             if(p.get_height()<0.2):\n",
    "#                 continue\n",
    "            if(green_col>0.5):# or green_col<0.4):\n",
    "                ax.text(_x, _y, value, ha=\"center\", size=size) \n",
    "            else:\n",
    "                ax.text(_x, _y, value, ha=\"center\", size=size, color=\"white\")\n",
    "    if isinstance(axs, np.ndarray):\n",
    "        for idx, ax in np.ndenumerate(axs):\n",
    "            _show_on_single_plot(ax)\n",
    "    else:\n",
    "        _show_on_single_plot(axs)"
   ]
  },
  {
   "cell_type": "markdown",
   "metadata": {},
   "source": [
    "# Result Data"
   ]
  },
  {
   "cell_type": "code",
   "execution_count": 5,
   "metadata": {},
   "outputs": [],
   "source": [
    "df_results_Encoders = pd.read_excel(\"Results/FewShotLearningTraitClassification_Encoder.xlsx\")\n",
    "df_results_SetFit = pd.read_excel(\"Results/FewShotLearningTraitClassification_SetFit.xlsx\")"
   ]
  },
  {
   "cell_type": "markdown",
   "metadata": {},
   "source": [
    "## Group Results"
   ]
  },
  {
   "cell_type": "code",
   "execution_count": 6,
   "metadata": {},
   "outputs": [],
   "source": [
    "df_results_full = pd.concat([df_results_Encoders, df_results_SetFit])"
   ]
  },
  {
   "cell_type": "code",
   "execution_count": 7,
   "metadata": {},
   "outputs": [
    {
     "data": {
      "text/html": [
       "<div>\n",
       "<style scoped>\n",
       "    .dataframe tbody tr th:only-of-type {\n",
       "        vertical-align: middle;\n",
       "    }\n",
       "\n",
       "    .dataframe tbody tr th {\n",
       "        vertical-align: top;\n",
       "    }\n",
       "\n",
       "    .dataframe thead th {\n",
       "        text-align: right;\n",
       "    }\n",
       "</style>\n",
       "<table border=\"1\" class=\"dataframe\">\n",
       "  <thead>\n",
       "    <tr style=\"text-align: right;\">\n",
       "      <th></th>\n",
       "      <th>Dataset</th>\n",
       "      <th>Trait</th>\n",
       "      <th>Sample Size</th>\n",
       "      <th>Accuracy</th>\n",
       "      <th>Precision</th>\n",
       "      <th>Recall</th>\n",
       "      <th>F1-Score</th>\n",
       "      <th>Model</th>\n",
       "    </tr>\n",
       "  </thead>\n",
       "  <tbody>\n",
       "    <tr>\n",
       "      <th>0</th>\n",
       "      <td>POWO</td>\n",
       "      <td>Growth Form</td>\n",
       "      <td>32</td>\n",
       "      <td>0</td>\n",
       "      <td>0</td>\n",
       "      <td>0</td>\n",
       "      <td>0.277440</td>\n",
       "      <td>DistilBERT</td>\n",
       "    </tr>\n",
       "    <tr>\n",
       "      <th>1</th>\n",
       "      <td>POWO</td>\n",
       "      <td>Growth Form</td>\n",
       "      <td>128</td>\n",
       "      <td>0</td>\n",
       "      <td>0</td>\n",
       "      <td>0</td>\n",
       "      <td>0.277440</td>\n",
       "      <td>DistilBERT</td>\n",
       "    </tr>\n",
       "    <tr>\n",
       "      <th>2</th>\n",
       "      <td>POWO</td>\n",
       "      <td>Growth Form</td>\n",
       "      <td>512</td>\n",
       "      <td>0</td>\n",
       "      <td>0</td>\n",
       "      <td>0</td>\n",
       "      <td>0.796845</td>\n",
       "      <td>DistilBERT</td>\n",
       "    </tr>\n",
       "    <tr>\n",
       "      <th>3</th>\n",
       "      <td>WIKI</td>\n",
       "      <td>Growth Form</td>\n",
       "      <td>32</td>\n",
       "      <td>0</td>\n",
       "      <td>0</td>\n",
       "      <td>0</td>\n",
       "      <td>0.228762</td>\n",
       "      <td>DistilBERT</td>\n",
       "    </tr>\n",
       "    <tr>\n",
       "      <th>4</th>\n",
       "      <td>WIKI</td>\n",
       "      <td>Growth Form</td>\n",
       "      <td>128</td>\n",
       "      <td>0</td>\n",
       "      <td>0</td>\n",
       "      <td>0</td>\n",
       "      <td>0.230679</td>\n",
       "      <td>DistilBERT</td>\n",
       "    </tr>\n",
       "    <tr>\n",
       "      <th>5</th>\n",
       "      <td>WIKI</td>\n",
       "      <td>Growth Form</td>\n",
       "      <td>512</td>\n",
       "      <td>0</td>\n",
       "      <td>0</td>\n",
       "      <td>0</td>\n",
       "      <td>0.838805</td>\n",
       "      <td>DistilBERT</td>\n",
       "    </tr>\n",
       "    <tr>\n",
       "      <th>0</th>\n",
       "      <td>POWO</td>\n",
       "      <td>Growth Form</td>\n",
       "      <td>32</td>\n",
       "      <td>0</td>\n",
       "      <td>0</td>\n",
       "      <td>0</td>\n",
       "      <td>0.306703</td>\n",
       "      <td>SetFit</td>\n",
       "    </tr>\n",
       "    <tr>\n",
       "      <th>1</th>\n",
       "      <td>POWO</td>\n",
       "      <td>Growth Form</td>\n",
       "      <td>128</td>\n",
       "      <td>0</td>\n",
       "      <td>0</td>\n",
       "      <td>0</td>\n",
       "      <td>0.794675</td>\n",
       "      <td>SetFit</td>\n",
       "    </tr>\n",
       "    <tr>\n",
       "      <th>2</th>\n",
       "      <td>POWO</td>\n",
       "      <td>Growth Form</td>\n",
       "      <td>512</td>\n",
       "      <td>0</td>\n",
       "      <td>0</td>\n",
       "      <td>0</td>\n",
       "      <td>0.835472</td>\n",
       "      <td>SetFit</td>\n",
       "    </tr>\n",
       "    <tr>\n",
       "      <th>3</th>\n",
       "      <td>WIKI</td>\n",
       "      <td>Growth Form</td>\n",
       "      <td>32</td>\n",
       "      <td>0</td>\n",
       "      <td>0</td>\n",
       "      <td>0</td>\n",
       "      <td>0.519236</td>\n",
       "      <td>SetFit</td>\n",
       "    </tr>\n",
       "    <tr>\n",
       "      <th>4</th>\n",
       "      <td>WIKI</td>\n",
       "      <td>Growth Form</td>\n",
       "      <td>128</td>\n",
       "      <td>0</td>\n",
       "      <td>0</td>\n",
       "      <td>0</td>\n",
       "      <td>0.821678</td>\n",
       "      <td>SetFit</td>\n",
       "    </tr>\n",
       "    <tr>\n",
       "      <th>5</th>\n",
       "      <td>WIKI</td>\n",
       "      <td>Growth Form</td>\n",
       "      <td>512</td>\n",
       "      <td>0</td>\n",
       "      <td>0</td>\n",
       "      <td>0</td>\n",
       "      <td>0.829715</td>\n",
       "      <td>SetFit</td>\n",
       "    </tr>\n",
       "  </tbody>\n",
       "</table>\n",
       "</div>"
      ],
      "text/plain": [
       "  Dataset        Trait  Sample Size  Accuracy  Precision  Recall  F1-Score  \\\n",
       "0    POWO  Growth Form           32         0          0       0  0.277440   \n",
       "1    POWO  Growth Form          128         0          0       0  0.277440   \n",
       "2    POWO  Growth Form          512         0          0       0  0.796845   \n",
       "3    WIKI  Growth Form           32         0          0       0  0.228762   \n",
       "4    WIKI  Growth Form          128         0          0       0  0.230679   \n",
       "5    WIKI  Growth Form          512         0          0       0  0.838805   \n",
       "0    POWO  Growth Form           32         0          0       0  0.306703   \n",
       "1    POWO  Growth Form          128         0          0       0  0.794675   \n",
       "2    POWO  Growth Form          512         0          0       0  0.835472   \n",
       "3    WIKI  Growth Form           32         0          0       0  0.519236   \n",
       "4    WIKI  Growth Form          128         0          0       0  0.821678   \n",
       "5    WIKI  Growth Form          512         0          0       0  0.829715   \n",
       "\n",
       "        Model  \n",
       "0  DistilBERT  \n",
       "1  DistilBERT  \n",
       "2  DistilBERT  \n",
       "3  DistilBERT  \n",
       "4  DistilBERT  \n",
       "5  DistilBERT  \n",
       "0      SetFit  \n",
       "1      SetFit  \n",
       "2      SetFit  \n",
       "3      SetFit  \n",
       "4      SetFit  \n",
       "5      SetFit  "
      ]
     },
     "execution_count": 7,
     "metadata": {},
     "output_type": "execute_result"
    }
   ],
   "source": [
    "df_results_full"
   ]
  },
  {
   "cell_type": "code",
   "execution_count": 10,
   "metadata": {},
   "outputs": [],
   "source": [
    "df_results_max = pd.read_excel(\"Results/CategoricalTraitClassification_Encoder_Results_Growth_Form.xlsx\")"
   ]
  },
  {
   "cell_type": "code",
   "execution_count": 11,
   "metadata": {},
   "outputs": [
    {
     "data": {
      "text/html": [
       "<div>\n",
       "<style scoped>\n",
       "    .dataframe tbody tr th:only-of-type {\n",
       "        vertical-align: middle;\n",
       "    }\n",
       "\n",
       "    .dataframe tbody tr th {\n",
       "        vertical-align: top;\n",
       "    }\n",
       "\n",
       "    .dataframe thead th {\n",
       "        text-align: right;\n",
       "    }\n",
       "</style>\n",
       "<table border=\"1\" class=\"dataframe\">\n",
       "  <thead>\n",
       "    <tr style=\"text-align: right;\">\n",
       "      <th></th>\n",
       "      <th>Dataset</th>\n",
       "      <th>Trait</th>\n",
       "      <th>Accuracy</th>\n",
       "      <th>Precision</th>\n",
       "      <th>Recall</th>\n",
       "      <th>F1-Score</th>\n",
       "      <th>Model</th>\n",
       "    </tr>\n",
       "  </thead>\n",
       "  <tbody>\n",
       "    <tr>\n",
       "      <th>0</th>\n",
       "      <td>POWO</td>\n",
       "      <td>Growth Form</td>\n",
       "      <td>0.9224</td>\n",
       "      <td>0.861821</td>\n",
       "      <td>0.859426</td>\n",
       "      <td>0.860619</td>\n",
       "      <td>DistilBERT</td>\n",
       "    </tr>\n",
       "    <tr>\n",
       "      <th>1</th>\n",
       "      <td>WIKI</td>\n",
       "      <td>Growth Form</td>\n",
       "      <td>0.9136</td>\n",
       "      <td>0.902922</td>\n",
       "      <td>0.899314</td>\n",
       "      <td>0.900939</td>\n",
       "      <td>DistilBERT</td>\n",
       "    </tr>\n",
       "  </tbody>\n",
       "</table>\n",
       "</div>"
      ],
      "text/plain": [
       "  Dataset        Trait  Accuracy  Precision    Recall  F1-Score       Model\n",
       "0    POWO  Growth Form    0.9224   0.861821  0.859426  0.860619  DistilBERT\n",
       "1    WIKI  Growth Form    0.9136   0.902922  0.899314  0.900939  DistilBERT"
      ]
     },
     "execution_count": 11,
     "metadata": {},
     "output_type": "execute_result"
    }
   ],
   "source": [
    "df_results_max"
   ]
  },
  {
   "cell_type": "markdown",
   "metadata": {},
   "source": [
    "# Model Comparison"
   ]
  },
  {
   "cell_type": "code",
   "execution_count": 41,
   "metadata": {},
   "outputs": [
    {
     "name": "stderr",
     "output_type": "stream",
     "text": [
      "C:\\Users\\Admin\\AppData\\Local\\Temp\\ipykernel_105208\\2377637294.py:15: UserWarning: FixedFormatter should only be used together with FixedLocator\n",
      "  axes.set_yticklabels(np.round(np.arange(0, 1.2, 0.2), 1), size=14)\n",
      "C:\\Users\\Admin\\AppData\\Local\\Temp\\ipykernel_105208\\2377637294.py:19: UserWarning: Attempted to set non-positive left xlim on a log-scaled axis.\n",
      "Invalid limit will be ignored.\n",
      "  plt.xlim(0, 600)\n",
      "No artists with labels found to put in legend.  Note that artists whose label start with an underscore are ignored when legend() is called with no argument.\n"
     ]
    },
    {
     "data": {
      "image/png": "[encoded data removed]",
      "text/plain": [
       "<Figure size 700x400 with 1 Axes>"
      ]
     },
     "metadata": {},
     "output_type": "display_data"
    }
   ],
   "source": [
    "for i, metric in enumerate([\"F1-Score\"]):\n",
    "\n",
    "    fig, axes  = plt.subplots(figsize=(7,4), nrows = 1)\n",
    "\n",
    "    for j, model in enumerate([\"DistilBERT\", \"SetFit\"]):    \n",
    "        for k, dataset in enumerate([\"POWO\", \"WIKI\"]):\n",
    "            df_subset = df_results_full[(df_results_full[\"Model\"]==model)*(df_results_full[\"Dataset\"]==dataset)]\n",
    "            linestyle = \"-\" if dataset==\"POWO\" else \"-.\"\n",
    "            plt.plot(df_subset[\"Sample Size\"], df_subset[metric], linewidth = 3, linestyle = linestyle, color = color_palette[j+2], alpha = 0.7)\n",
    "            plt.plot(np.arange(32, 600), np.repeat(df_results_max[(df_results_max[\"Dataset\"]==dataset)][metric], 568), linewidth = 2, linestyle = linestyle, color = color_palette[0], alpha = 0.5)\n",
    "    plt.xscale(\"log\")\n",
    "\n",
    "    axes.set_xticks([32, 128, 512])\n",
    "    axes.set_xticklabels([32, 128, 512], size=14, rotation=\"horizontal\")\n",
    "    axes.set_yticklabels(np.round(np.arange(0, 1.2, 0.2), 1), size=14)\n",
    "    axes.grid(axis='x')\n",
    "    plt.xlabel(\"Sample Size\", size = 18)\n",
    "    plt.ylabel(metric, size = 18)\n",
    "    plt.xlim(0, 600)\n",
    "    plt.ylim(0, 1)\n",
    "    if(i==0):\n",
    "        plt.legend()\n",
    "    # plt.xlim(-1.5, 64)\n",
    "    # plt.legend()\n",
    "    plt.tight_layout()\n",
    "    plt.show()"
   ]
  },
  {
   "cell_type": "code",
   "execution_count": null,
   "metadata": {},
   "outputs": [],
   "source": []
  }
 ],
 "metadata": {
  "kernelspec": {
   "display_name": "base",
   "language": "python",
   "name": "python3"
  },
  "language_info": {
   "codemirror_mode": {
    "name": "ipython",
    "version": 3
   },
   "file_extension": ".py",
   "mimetype": "text/x-python",
   "name": "python",
   "nbconvert_exporter": "python",
   "pygments_lexer": "ipython3",
   "version": "3.9.13"
  },
  "orig_nbformat": 4
 },
 "nbformat": 4,
 "nbformat_minor": 2
}
