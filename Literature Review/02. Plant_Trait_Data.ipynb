{
 "cells": [
  {
   "cell_type": "markdown",
   "metadata": {},
   "source": [
    "# Libraries & Functions"
   ]
  },
  {
   "cell_type": "code",
   "execution_count": 1,
   "metadata": {},
   "outputs": [],
   "source": [
    "'''Math & Data Libraries'''\n",
    "import numpy as np\n",
    "import pandas as pd"
   ]
  },
  {
   "cell_type": "code",
   "execution_count": 2,
   "metadata": {},
   "outputs": [],
   "source": [
    "'''Visualization Libraries'''\n",
    "import matplotlib.pyplot as plt\n",
    "import seaborn as sns\n",
    "from PIL import Image\n",
    "\n",
    "sns.set_style(\"whitegrid\", {\"grid.color\": \"0.5\", \"axes.edgecolor\": \"0.2\"})\n",
    "color_palette = [ \"#007597\", \"#FF8853\", \"#C1C36D\", \"#FFE174\",\"#00A697\", \"#BC97E0\", \"#ffc0bf\"]\n",
    "sns.set_palette(sns.color_palette(color_palette))"
   ]
  },
  {
   "cell_type": "markdown",
   "metadata": {},
   "source": [
    "# Input Data"
   ]
  },
  {
   "cell_type": "code",
   "execution_count": 186,
   "metadata": {},
   "outputs": [
    {
     "name": "stderr",
     "output_type": "stream",
     "text": [
      "C:\\Users\\Admin\\AppData\\Local\\Temp\\ipykernel_171224\\390116488.py:2: DtypeWarning: Columns (4) have mixed types. Specify dtype option on import or set low_memory=False.\n",
      "  df_trait_summary_dict[\"GIFT\"] = pd.read_csv('../Datasets/Initial Databases/GIFT_traits.csv').drop_duplicates([\"work_ID\", \"trait_ID\"])\n"
     ]
    }
   ],
   "source": [
    "df_trait_summary_dict = {}\n",
    "df_trait_summary_dict[\"GIFT\"] = pd.read_csv('../Datasets/Initial Databases/GIFT_traits.csv').drop_duplicates([\"work_ID\", \"trait_ID\"])\n",
    "df_trait_summary_dict[\"TRY\"] = pd.read_csv('../Datasets/Papers/trait_summary_overall.csv', encoding=\"cp1252\")\n",
    "# df_trait_summary_dict[\"TRY\"] = df_trait_summary_dict[\"GBIF\"][df_trait_summary_dict[\"TRY\"]['TraitName'].map(df_trait_summary_dict[\"GBIF\"][\"TraitName\"].value_counts()) > df_trait_summary_dict[\"GBIF\"][\"TraitName\"].value_counts()[109]]"
   ]
  },
  {
   "cell_type": "code",
   "execution_count": 187,
   "metadata": {},
   "outputs": [],
   "source": [
    "plant_trait_counts_dict = {}\n",
    "trait_plant_counts_dict = {}\n",
    "\n",
    "plant_trait_counts_dict[\"GIFT\"] = df_trait_summary_dict[\"GIFT\"][\"work_ID\"].value_counts()\n",
    "trait_plant_counts_dict[\"GIFT\"] = df_trait_summary_dict[\"GIFT\"][\"trait_ID\"].value_counts()\n",
    "\n",
    "plant_trait_counts_dict[\"TRY\"] = df_trait_summary_dict[\"GBIF\"][\"AccSpeciesName\"].value_counts()\n",
    "trait_plant_counts_dict[\"TRY\"] = df_trait_summary_dict[\"GBIF\"][\"TraitName\"].value_counts()"
   ]
  },
  {
   "cell_type": "code",
   "execution_count": 188,
   "metadata": {},
   "outputs": [
    {
     "name": "stdout",
     "output_type": "stream",
     "text": [
      "GIFT 291832 109\n",
      "GBIF 130305 1918\n"
     ]
    }
   ],
   "source": [
    "for df_name in df_trait_summary_dict.keys():\n",
    "    print(df_name, len(plant_trait_counts_dict[df_name]), len(trait_plant_counts_dict[df_name]))"
   ]
  },
  {
   "cell_type": "code",
   "execution_count": 189,
   "metadata": {},
   "outputs": [],
   "source": [
    "for df_name in df_trait_summary_dict.keys():\n",
    "    plant_trait_counts_dict[df_name] = pd.concat([plant_trait_counts_dict[df_name], pd.Series([0 for i in range(len(plant_trait_counts_dict[df_name]), 380000)], index=[f\"species_{i}\" for i in range(len(plant_trait_counts_dict[df_name]), 380000)])])"
   ]
  },
  {
   "cell_type": "code",
   "execution_count": 190,
   "metadata": {},
   "outputs": [
    {
     "name": "stdout",
     "output_type": "stream",
     "text": [
      "GIFT 380000\n",
      "GBIF 380000\n"
     ]
    }
   ],
   "source": [
    "for df_name in df_trait_summary_dict.keys():\n",
    "    print(df_name, len(plant_trait_counts_dict[df_name]))"
   ]
  },
  {
   "cell_type": "code",
   "execution_count": 225,
   "metadata": {},
   "outputs": [
    {
     "name": "stdout",
     "output_type": "stream",
     "text": [
      "GIFT\n",
      "0 380000 1.0 10000.0\n",
      "1 291832 0.77 7700.0\n",
      "10 139897 0.37 3700.0\n",
      "50 939 0.0 0.0\n",
      "\n",
      "GBIF\n",
      "0 380000 1.0 10000.0\n",
      "1 130305 0.34 3400.0000000000005\n",
      "10 32866 0.09 900.0\n",
      "50 6331 0.02 200.0\n",
      "\n"
     ]
    }
   ],
   "source": [
    "for df_name in df_trait_summary_dict.keys():\n",
    "    print(df_name)\n",
    "    for threshold in [0, 1, 10, 50]:\n",
    "        print(threshold, np.sum(plant_trait_counts_dict[df_name]>=threshold), np.round(np.mean(plant_trait_counts_dict[df_name]>=threshold), 2), 10000*np.round(np.mean(plant_trait_counts_dict[df_name]>=threshold), 2))\n",
    "    print()"
   ]
  },
  {
   "cell_type": "code",
   "execution_count": 226,
   "metadata": {},
   "outputs": [
    {
     "name": "stdout",
     "output_type": "stream",
     "text": [
      "GIFT\n",
      "1 109 1.0 10000.0\n",
      "100 100 0.92 9200.0\n",
      "1000 79 0.72 7200.0\n",
      "10000 37 0.34 3400.0000000000005\n",
      "\n",
      "GBIF\n",
      "1 1918 1.0 10000.0\n",
      "100 573 0.3 3000.0\n",
      "1000 245 0.13 1300.0\n",
      "10000 24 0.01 100.0\n",
      "\n"
     ]
    }
   ],
   "source": [
    "for df_name in df_trait_summary_dict.keys():\n",
    "    print(df_name)\n",
    "    for threshold in [1, 100, 1000, 10000]:\n",
    "        print(threshold, np.sum(trait_plant_counts_dict[df_name]>=threshold), np.round(np.mean(trait_plant_counts_dict[df_name]>=threshold), 2), 10000*np.round(np.mean(trait_plant_counts_dict[df_name]>=threshold), 2))\n",
    "    print()"
   ]
  },
  {
   "cell_type": "code",
   "execution_count": 130,
   "metadata": {},
   "outputs": [],
   "source": [
    "palette_plants = [\"#EEEEEE\", \"#d3d598\", \"#C1C36D\", \"#9a9c57\"]"
   ]
  },
  {
   "cell_type": "code",
   "execution_count": 224,
   "metadata": {},
   "outputs": [
    {
     "name": "stdout",
     "output_type": "stream",
     "text": [
      "GIFT\n",
      "0 380000\n",
      "1 291832\n",
      "10 139897\n",
      "50 939\n"
     ]
    },
    {
     "name": "stderr",
     "output_type": "stream",
     "text": [
      "C:\\Users\\Admin\\AppData\\Local\\Temp\\ipykernel_171224\\688443121.py:11: UserWarning: Setting the 'color' property will override the edgecolor or facecolor properties.\n",
      "  rect = patches.Rectangle((-0.25,-0.25), max_R+0.5, max_R+0.5, color = \"#e6e7c4\", alpha=1, fill = None, linewidth = 10, edgecolor = \"#9a9c57\")\n"
     ]
    },
    {
     "data": {
      "image/png": "[encoded data removed]",
      "text/plain": [
       "<Figure size 700x700 with 1 Axes>"
      ]
     },
     "metadata": {},
     "output_type": "display_data"
    },
    {
     "name": "stdout",
     "output_type": "stream",
     "text": [
      "GBIF\n",
      "0 380000\n",
      "1 130305\n",
      "10 32866\n",
      "50 6331\n"
     ]
    },
    {
     "data": {
      "image/png": "[encoded data removed]",
      "text/plain": [
       "<Figure size 700x700 with 1 Axes>"
      ]
     },
     "metadata": {},
     "output_type": "display_data"
    }
   ],
   "source": [
    "import matplotlib.patches as patches\n",
    "import matplotlib as mpl\n",
    "\n",
    "\n",
    "for df_name in df_trait_summary_dict.keys():\n",
    "    print(df_name)\n",
    "    fig, ax = plt.subplots(figsize=(7,7))\n",
    "\n",
    "    max_R = 100\n",
    "\n",
    "    rect = patches.Rectangle((-0.25,-0.25), max_R+0.5, max_R+0.5, color = \"#e6e7c4\", alpha=1, fill = None, linewidth = 10, edgecolor = \"#9a9c57\")\n",
    "    t2 = mpl.transforms.Affine2D().rotate_deg(45) + ax.transData\n",
    "    rect.set_transform(t2)\n",
    "\n",
    "\n",
    "    for i, threshold in enumerate([0, 1, 10, 50]):\n",
    "        print(threshold, np.sum(plant_trait_counts_dict[df_name]>=threshold))\n",
    "        side_length = max_R*np.round(np.mean(plant_trait_counts_dict[df_name]>=threshold), 2)**0.5\n",
    "        rect = patches.Rectangle((0,0), side_length, side_length, color = palette_plants[i], alpha=1)\n",
    "        t2 = mpl.transforms.Affine2D().rotate_deg(45) + ax.transData\n",
    "        rect.set_transform(t2)\n",
    "        ax.add_patch(rect)\n",
    "        # break\n",
    "\n",
    "    # ax.add_patch(rect)\n",
    "    # blank_rect = patches.Rectangle((0, -3), 75, 150, color = \"white\", alpha=1)\n",
    "    # ax.add_patch(blank_rect)\n",
    "    plt.axis(\"equal\")\n",
    "    # plt.xlim(-max_R, max_R)\n",
    "    # plt.ylim(25, 20)\n",
    "\n",
    "    plt.axis(\"off\")\n",
    "    plt.show()"
   ]
  },
  {
   "cell_type": "code",
   "execution_count": 221,
   "metadata": {},
   "outputs": [],
   "source": [
    "palette_traits = [\"#EEEEEE\", \"#4c9eb6\", \"#007597\", \"#005d78\"]"
   ]
  },
  {
   "cell_type": "code",
   "execution_count": 223,
   "metadata": {},
   "outputs": [
    {
     "name": "stdout",
     "output_type": "stream",
     "text": [
      "GIFT\n",
      "1 109\n",
      "100 100\n",
      "1000 79\n",
      "10000 37\n"
     ]
    },
    {
     "name": "stderr",
     "output_type": "stream",
     "text": [
      "C:\\Users\\Admin\\AppData\\Local\\Temp\\ipykernel_171224\\128203145.py:10: UserWarning: Setting the 'color' property will override the edgecolor or facecolor properties.\n",
      "  rect = patches.Rectangle((-0.25,-0.25), max_R+0.5, max_R+0.5, color = \"#99c7d5\", alpha=1, fill = None, linewidth = 10, edgecolor = \"#9a9c57\")\n"
     ]
    },
    {
     "data": {
      "image/png": "[encoded data removed]",
      "text/plain": [
       "<Figure size 700x700 with 1 Axes>"
      ]
     },
     "metadata": {},
     "output_type": "display_data"
    },
    {
     "name": "stdout",
     "output_type": "stream",
     "text": [
      "GBIF\n",
      "1 1918\n",
      "100 573\n",
      "1000 245\n",
      "10000 24\n"
     ]
    },
    {
     "data": {
      "image/png": "[encoded data removed]",
      "text/plain": [
       "<Figure size 700x700 with 1 Axes>"
      ]
     },
     "metadata": {},
     "output_type": "display_data"
    }
   ],
   "source": [
    "import matplotlib.patches as patches\n",
    "import matplotlib as mpl\n",
    "\n",
    "for df_name in df_trait_summary_dict.keys():\n",
    "    print(df_name)\n",
    "    fig, ax = plt.subplots(figsize=(7,7))\n",
    "\n",
    "    max_R = 100\n",
    "\n",
    "    rect = patches.Rectangle((-0.25,-0.25), max_R+0.5, max_R+0.5, color = \"#99c7d5\", alpha=1, fill = None, linewidth = 10, edgecolor = \"#9a9c57\")\n",
    "    t2 = mpl.transforms.Affine2D().rotate_deg(45) + ax.transData\n",
    "    rect.set_transform(t2)\n",
    "    ax.add_patch(rect)\n",
    "\n",
    "    for i, threshold in enumerate([1, 100, 1000, 10000]):\n",
    "        print(threshold, np.sum(trait_plant_counts_dict[df_name]>=threshold))\n",
    "        side_length = max_R*np.round(np.mean(trait_plant_counts_dict[df_name]>=threshold), 2)**0.5\n",
    "        rect = patches.Rectangle((0,0), side_length, side_length, color = palette_traits[i], alpha=1)\n",
    "        t2 = mpl.transforms.Affine2D().rotate_deg(45) + ax.transData\n",
    "        rect.set_transform(t2)\n",
    "        ax.add_patch(rect)\n",
    "        # break\n",
    "    plt.axis(\"equal\")\n",
    "    # plt.xlim(-max_R, max_R)\n",
    "    # plt.ylim(25, 20)\n",
    "\n",
    "    plt.axis(\"off\")\n",
    "    plt.show()"
   ]
  },
  {
   "cell_type": "code",
   "execution_count": null,
   "metadata": {},
   "outputs": [],
   "source": []
  }
 ],
 "metadata": {
  "kernelspec": {
   "display_name": "base",
   "language": "python",
   "name": "python3"
  },
  "language_info": {
   "codemirror_mode": {
    "name": "ipython",
    "version": 3
   },
   "file_extension": ".py",
   "mimetype": "text/x-python",
   "name": "python",
   "nbconvert_exporter": "python",
   "pygments_lexer": "ipython3",
   "version": "3.9.13"
  },
  "orig_nbformat": 4
 },
 "nbformat": 4,
 "nbformat_minor": 2
}
