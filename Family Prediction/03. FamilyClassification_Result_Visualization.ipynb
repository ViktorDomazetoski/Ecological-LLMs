{
 "cells": [
  {
   "cell_type": "markdown",
   "metadata": {},
   "source": [
    "# Libraries & Functions"
   ]
  },
  {
   "cell_type": "code",
   "execution_count": 1,
   "metadata": {},
   "outputs": [],
   "source": [
    "'''Math & Data Libraries'''\n",
    "import numpy as np\n",
    "import pandas as pd"
   ]
  },
  {
   "cell_type": "code",
   "execution_count": 2,
   "metadata": {},
   "outputs": [],
   "source": [
    "'''Visualization Libraries'''\n",
    "import matplotlib.pyplot as plt\n",
    "import seaborn as sns\n",
    "from PIL import Image\n",
    "\n",
    "sns.set_style(\"whitegrid\", {\"grid.color\": \"0.5\", \"axes.edgecolor\": \"0.2\"})\n",
    "color_palette = [\"#FF8853\", \"#FFE174\", \"#007597\", \"#C1C36D\", \"#00A697\", \"#BC97E0\", \"#ffc0bf\"] #[ \"#007597\", \"#FF8853\", \"#C1C36D\", \"#FFE174\",\"#00A697\", \"#BC97E0\", \"#ffc0bf\"]\n",
    "sns.set_palette(sns.color_palette(color_palette))"
   ]
  },
  {
   "cell_type": "code",
   "execution_count": 14,
   "metadata": {},
   "outputs": [],
   "source": [
    "def show_values_on_bars(axs, size=14):\n",
    "    def _show_on_single_plot(ax, size=size):        \n",
    "        for p in ax.patches:\n",
    "            _x = p.get_x() + p.get_width() / 2\n",
    "            _y = max(p.get_y() + p.get_height() - 0.15, 0.1)\n",
    "            value = '{:.2f}'.format(p.get_height())\n",
    "            # print(_y, p.get_facecolor())\n",
    "            blue_col = p.get_facecolor()[2]\n",
    "            green_col = p.get_facecolor()[1]\n",
    "#             if(p.get_height()<0.2):\n",
    "#                 continue\n",
    "            if(green_col>0.5):# or green_col<0.4):\n",
    "                ax.text(_x, _y, value, ha=\"center\", size=size) \n",
    "            else:\n",
    "                ax.text(_x, _y, value, ha=\"center\", size=size, color=\"white\")\n",
    "    if isinstance(axs, np.ndarray):\n",
    "        for idx, ax in np.ndenumerate(axs):\n",
    "            _show_on_single_plot(ax)\n",
    "    else:\n",
    "        _show_on_single_plot(axs)"
   ]
  },
  {
   "cell_type": "markdown",
   "metadata": {},
   "source": [
    "# Result Data"
   ]
  },
  {
   "cell_type": "markdown",
   "metadata": {},
   "source": [
    "## LR Results"
   ]
  },
  {
   "cell_type": "code",
   "execution_count": 8,
   "metadata": {},
   "outputs": [],
   "source": [
    "df_results_lr = pd.read_excel(\"Results/FamilyClassification_LR_Results.xlsx\")"
   ]
  },
  {
   "cell_type": "markdown",
   "metadata": {},
   "source": [
    "## Encoder Results"
   ]
  },
  {
   "cell_type": "code",
   "execution_count": 9,
   "metadata": {},
   "outputs": [],
   "source": [
    "df_results_encoder = pd.read_excel(\"Results/FamilyClassification_Encoder_Results.xlsx\")"
   ]
  },
  {
   "cell_type": "markdown",
   "metadata": {},
   "source": [
    "## Group Results"
   ]
  },
  {
   "cell_type": "code",
   "execution_count": 10,
   "metadata": {},
   "outputs": [],
   "source": [
    "df_results_full = pd.concat([df_results_lr, df_results_encoder])"
   ]
  },
  {
   "cell_type": "code",
   "execution_count": 11,
   "metadata": {},
   "outputs": [
    {
     "data": {
      "text/html": [
       "<div>\n",
       "<style scoped>\n",
       "    .dataframe tbody tr th:only-of-type {\n",
       "        vertical-align: middle;\n",
       "    }\n",
       "\n",
       "    .dataframe tbody tr th {\n",
       "        vertical-align: top;\n",
       "    }\n",
       "\n",
       "    .dataframe thead th {\n",
       "        text-align: right;\n",
       "    }\n",
       "</style>\n",
       "<table border=\"1\" class=\"dataframe\">\n",
       "  <thead>\n",
       "    <tr style=\"text-align: right;\">\n",
       "      <th></th>\n",
       "      <th>Dataset</th>\n",
       "      <th>Accuracy</th>\n",
       "      <th>Precision</th>\n",
       "      <th>Recall</th>\n",
       "      <th>F1-Score</th>\n",
       "      <th>Model</th>\n",
       "    </tr>\n",
       "  </thead>\n",
       "  <tbody>\n",
       "    <tr>\n",
       "      <th>0</th>\n",
       "      <td>POWO</td>\n",
       "      <td>0.9624</td>\n",
       "      <td>0.963219</td>\n",
       "      <td>0.963338</td>\n",
       "      <td>0.963144</td>\n",
       "      <td>Logistic Regression</td>\n",
       "    </tr>\n",
       "    <tr>\n",
       "      <th>1</th>\n",
       "      <td>WIKI</td>\n",
       "      <td>0.9616</td>\n",
       "      <td>0.961331</td>\n",
       "      <td>0.961633</td>\n",
       "      <td>0.961337</td>\n",
       "      <td>Logistic Regression</td>\n",
       "    </tr>\n",
       "    <tr>\n",
       "      <th>0</th>\n",
       "      <td>POWO</td>\n",
       "      <td>0.9648</td>\n",
       "      <td>0.965422</td>\n",
       "      <td>0.965381</td>\n",
       "      <td>0.965209</td>\n",
       "      <td>EcoBERT</td>\n",
       "    </tr>\n",
       "    <tr>\n",
       "      <th>1</th>\n",
       "      <td>WIKI</td>\n",
       "      <td>0.9712</td>\n",
       "      <td>0.970690</td>\n",
       "      <td>0.970147</td>\n",
       "      <td>0.970250</td>\n",
       "      <td>EcoBERT</td>\n",
       "    </tr>\n",
       "    <tr>\n",
       "      <th>2</th>\n",
       "      <td>POWO</td>\n",
       "      <td>0.9680</td>\n",
       "      <td>0.968400</td>\n",
       "      <td>0.968147</td>\n",
       "      <td>0.968233</td>\n",
       "      <td>DistilBERT</td>\n",
       "    </tr>\n",
       "    <tr>\n",
       "      <th>3</th>\n",
       "      <td>WIKI</td>\n",
       "      <td>0.9712</td>\n",
       "      <td>0.970701</td>\n",
       "      <td>0.970070</td>\n",
       "      <td>0.970276</td>\n",
       "      <td>DistilBERT</td>\n",
       "    </tr>\n",
       "    <tr>\n",
       "      <th>4</th>\n",
       "      <td>POWO</td>\n",
       "      <td>0.9480</td>\n",
       "      <td>0.949728</td>\n",
       "      <td>0.948704</td>\n",
       "      <td>0.948944</td>\n",
       "      <td>DeBERTa_v3</td>\n",
       "    </tr>\n",
       "    <tr>\n",
       "      <th>5</th>\n",
       "      <td>WIKI</td>\n",
       "      <td>0.9656</td>\n",
       "      <td>0.965516</td>\n",
       "      <td>0.964464</td>\n",
       "      <td>0.964734</td>\n",
       "      <td>DeBERTa_v3</td>\n",
       "    </tr>\n",
       "    <tr>\n",
       "      <th>6</th>\n",
       "      <td>POWO</td>\n",
       "      <td>0.9640</td>\n",
       "      <td>0.965100</td>\n",
       "      <td>0.964041</td>\n",
       "      <td>0.964369</td>\n",
       "      <td>ELECTRA</td>\n",
       "    </tr>\n",
       "    <tr>\n",
       "      <th>7</th>\n",
       "      <td>WIKI</td>\n",
       "      <td>0.9712</td>\n",
       "      <td>0.970611</td>\n",
       "      <td>0.970563</td>\n",
       "      <td>0.970299</td>\n",
       "      <td>ELECTRA</td>\n",
       "    </tr>\n",
       "  </tbody>\n",
       "</table>\n",
       "</div>"
      ],
      "text/plain": [
       "  Dataset  Accuracy  Precision    Recall  F1-Score                Model\n",
       "0    POWO    0.9624   0.963219  0.963338  0.963144  Logistic Regression\n",
       "1    WIKI    0.9616   0.961331  0.961633  0.961337  Logistic Regression\n",
       "0    POWO    0.9648   0.965422  0.965381  0.965209              EcoBERT\n",
       "1    WIKI    0.9712   0.970690  0.970147  0.970250              EcoBERT\n",
       "2    POWO    0.9680   0.968400  0.968147  0.968233           DistilBERT\n",
       "3    WIKI    0.9712   0.970701  0.970070  0.970276           DistilBERT\n",
       "4    POWO    0.9480   0.949728  0.948704  0.948944           DeBERTa_v3\n",
       "5    WIKI    0.9656   0.965516  0.964464  0.964734           DeBERTa_v3\n",
       "6    POWO    0.9640   0.965100  0.964041  0.964369              ELECTRA\n",
       "7    WIKI    0.9712   0.970611  0.970563  0.970299              ELECTRA"
      ]
     },
     "execution_count": 11,
     "metadata": {},
     "output_type": "execute_result"
    }
   ],
   "source": [
    "df_results_full"
   ]
  },
  {
   "cell_type": "markdown",
   "metadata": {},
   "source": [
    "# Model Comparison"
   ]
  },
  {
   "cell_type": "code",
   "execution_count": 19,
   "metadata": {},
   "outputs": [
    {
     "name": "stderr",
     "output_type": "stream",
     "text": [
      "C:\\Users\\Admin\\AppData\\Local\\Temp\\ipykernel_46672\\126085684.py:7: UserWarning: FixedFormatter should only be used together with FixedLocator\n",
      "  axes.set_yticklabels(np.round(np.arange(0, 41, 5), 1), size=18)\n"
     ]
    },
    {
     "data": {
      "image/png": "[encoded data removed]",
      "text/plain": [
       "<Figure size 1200x500 with 1 Axes>"
      ]
     },
     "metadata": {},
     "output_type": "display_data"
    }
   ],
   "source": [
    "for metric in [\"F1-Score\"]:\n",
    "    df_subset = df_results_full\n",
    "    fig, axes  = plt.subplots(figsize=(12,5), nrows = 1)\n",
    "    sns.barplot(data=df_subset, x=\"Dataset\", y=metric, hue = \"Model\", palette = color_palette)\n",
    "    show_values_on_bars(axes)\n",
    "    axes.set_xticklabels(axes.get_xticklabels(), size=18, rotation=\"horizontal\")\n",
    "    axes.set_yticklabels(np.round(np.arange(0, 41, 5), 1), size=18)\n",
    "    plt.xlabel(\"Dataset\", size = 18)\n",
    "    plt.ylabel(metric, size=18)\n",
    "    plt.ylim(0, 1)\n",
    "    plt.tight_layout()\n",
    "    plt.legend(loc = \"lower right\", fontsize = 14, fancybox = True, shadow = True)\n",
    "    plt.show()"
   ]
  }
 ],
 "metadata": {
  "kernelspec": {
   "display_name": "base",
   "language": "python",
   "name": "python3"
  },
  "language_info": {
   "codemirror_mode": {
    "name": "ipython",
    "version": 3
   },
   "file_extension": ".py",
   "mimetype": "text/x-python",
   "name": "python",
   "nbconvert_exporter": "python",
   "pygments_lexer": "ipython3",
   "version": "3.9.13"
  },
  "orig_nbformat": 4
 },
 "nbformat": 4,
 "nbformat_minor": 2
}
