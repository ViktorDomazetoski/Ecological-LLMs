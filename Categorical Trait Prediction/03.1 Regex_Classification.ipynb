{
 "cells": [
  {
   "attachments": {},
   "cell_type": "markdown",
   "id": "f0a37fd5",
   "metadata": {},
   "source": [
    "# Libraries & Functions"
   ]
  },
  {
   "cell_type": "code",
   "execution_count": 1,
   "id": "77642979",
   "metadata": {
    "ExecuteTime": {
     "end_time": "2023-01-10T13:21:29.150256Z",
     "start_time": "2023-01-10T13:21:28.379404Z"
    }
   },
   "outputs": [],
   "source": [
    "'''Math & Data Libraries'''\n",
    "import numpy as np\n",
    "import pandas as pd"
   ]
  },
  {
   "cell_type": "code",
   "execution_count": 11,
   "id": "2b7204c2",
   "metadata": {
    "ExecuteTime": {
     "end_time": "2023-01-10T13:21:35.279003Z",
     "start_time": "2023-01-10T13:21:35.264001Z"
    }
   },
   "outputs": [],
   "source": [
    "'''ML Libraries'''\n",
    "from sklearn.feature_extraction.text import CountVectorizer\n",
    "from sklearn.model_selection import train_test_split\n",
    "from sklearn.preprocessing import LabelEncoder\n",
    "\n",
    "from sklearn.linear_model import LogisticRegression\n",
    "from sklearn.metrics import accuracy_score, precision_score, recall_score, f1_score"
   ]
  },
  {
   "cell_type": "code",
   "execution_count": 3,
   "id": "1096fc8f",
   "metadata": {},
   "outputs": [],
   "source": [
    "def calculate_scores(y_test, y_pred, average = \"binary\"):\n",
    "    accuracy = accuracy_score(y_test, y_pred)\n",
    "    precision = precision_score(y_test, y_pred, average = average)\n",
    "    recall = recall_score(y_test, y_pred, average = average)\n",
    "    f1 = f1_score(y_test, y_pred, average = average)\n",
    "    return [accuracy, precision, recall, f1]"
   ]
  },
  {
   "cell_type": "code",
   "execution_count": 4,
   "id": "5c40cf28",
   "metadata": {},
   "outputs": [],
   "source": [
    "trait_values_dict = {}\n",
    "trait_values_dict[\"1.2.1\"] = [\"herb\", \"shrub\", \"tree\"]\n",
    "# trait_values_dict[\"1.3.1\"] = [\"obligatory\", \"terrestrial\"]\n",
    "# trait_values_dict[\"1.4.1\"] = [\"obligatory\", \"self-supporting\"]\n",
    "# trait_values_dict[\"2.1.1\"] = [\"annual\", \"perennial\"]\n",
    "trait_values_dict[\"2.3.1\"] = [\"phanerophyte\", \"chamaephyte\", \"hemicryptophyte\", \"cryptophyte\", \"therophyte\"]\n",
    "\n",
    "trait_names_cat = [\"Growth Form\", \"Life Form\"] #\"Epiphyte\", \"Climber\", \"Lifecycle\", \n",
    "traits_cat = [\"1.2.1\", \"2.3.1\"] #\"1.3.1\", \"1.4.1\", \"2.1.1\", "
   ]
  },
  {
   "cell_type": "code",
   "execution_count": 10,
   "id": "7854f715",
   "metadata": {},
   "outputs": [],
   "source": [
    "focus_names = [\"Growth Form\", \"Life Form\"]\n",
    "focus_codes = [\"1.2.1\", \"2.3.1\"]"
   ]
  },
  {
   "attachments": {},
   "cell_type": "markdown",
   "id": "8ae76750",
   "metadata": {},
   "source": [
    "# Input Data"
   ]
  },
  {
   "cell_type": "code",
   "execution_count": 6,
   "id": "0603b1f7",
   "metadata": {},
   "outputs": [],
   "source": [
    "raw_datasets = dict()"
   ]
  },
  {
   "cell_type": "markdown",
   "id": "ae6c4908",
   "metadata": {},
   "source": [
    "## POWO Dataset"
   ]
  },
  {
   "cell_type": "code",
   "execution_count": 7,
   "id": "e8483a12",
   "metadata": {},
   "outputs": [],
   "source": [
    "working_dir = \"..//Datasets//\" \n",
    "\n",
    "df_POWO_Cat =  pd.read_excel(working_dir + \"POWO_GIFT.xlsx\")\n",
    "df_POWO_Cat_Preproc = df_POWO_Cat.drop_duplicates(subset = [\"BERT_description\"])\n",
    "df_POWO_Cat_Preproc = df_POWO_Cat_Preproc[df_POWO_Cat_Preproc[\"BERT_description\"].apply(lambda x: len(x.split(\" \")))>10]\n",
    "raw_datasets[\"POWO\"] = df_POWO_Cat_Preproc"
   ]
  },
  {
   "cell_type": "markdown",
   "id": "58f6e7a6",
   "metadata": {},
   "source": [
    "## WIKI Dataset"
   ]
  },
  {
   "cell_type": "code",
   "execution_count": 8,
   "id": "d68059fd",
   "metadata": {},
   "outputs": [],
   "source": [
    "def fix_WIKI(name, description):\n",
    "    for n in name.split(\" \"):\n",
    "        description = str(description).replace(n.lower(), \"\")\n",
    "    return description.strip()"
   ]
  },
  {
   "cell_type": "code",
   "execution_count": 9,
   "id": "7899702c",
   "metadata": {},
   "outputs": [
    {
     "name": "stderr",
     "output_type": "stream",
     "text": [
      "C:\\Users\\Admin\\AppData\\Local\\Temp\\ipykernel_59688\\4160230578.py:5: SettingWithCopyWarning: \n",
      "A value is trying to be set on a copy of a slice from a DataFrame.\n",
      "Try using .loc[row_indexer,col_indexer] = value instead\n",
      "\n",
      "See the caveats in the documentation: https://pandas.pydata.org/pandas-docs/stable/user_guide/indexing.html#returning-a-view-versus-a-copy\n",
      "  df_WIKI_Cat_Preproc[\"BERT_description\"] = df_WIKI_Cat_Preproc[[\"name\", \"BERT_description\"]].apply(lambda x: fix_WIKI(x[0], x[1]), axis = 1)\n"
     ]
    }
   ],
   "source": [
    "working_dir = \"..//Datasets//\" \n",
    "\n",
    "df_WIKI_Cat =  pd.read_excel(working_dir + \"WIKI_GIFT.xlsx\")\n",
    "df_WIKI_Cat_Preproc = df_WIKI_Cat.drop_duplicates(subset = [\"BERT_description\"])\n",
    "df_WIKI_Cat_Preproc[\"BERT_description\"] = df_WIKI_Cat_Preproc[[\"name\", \"BERT_description\"]].apply(lambda x: fix_WIKI(x[0], x[1]), axis = 1)\n",
    "df_WIKI_Cat_Preproc = df_WIKI_Cat_Preproc[df_WIKI_Cat_Preproc[\"BERT_description\"].apply(lambda x: len(str(x).split(\" \")))>10]\n",
    "raw_datasets[\"WIKI\"] = df_WIKI_Cat_Preproc"
   ]
  },
  {
   "cell_type": "markdown",
   "id": "995f0fda",
   "metadata": {},
   "source": [
    "## Preprocess Datasets"
   ]
  },
  {
   "cell_type": "code",
   "execution_count": 12,
   "id": "1c5574d5",
   "metadata": {},
   "outputs": [],
   "source": [
    "label_map = {\n",
    "    \"Growth Form\": {\"herb\": 0, \"shrub\": 1, \"tree\": 2},\n",
    "    \"Life Form\": {\"phanerophyte\": 0, \"chamaephyte\": 1, \"hemicryptophyte\": 2, \"cryptophyte\": 3, \"therophyte\": 4},\n",
    "}"
   ]
  },
  {
   "cell_type": "code",
   "execution_count": 28,
   "id": "cf32d470",
   "metadata": {},
   "outputs": [],
   "source": [
    "preprocessed_dataset_dict = {}\n",
    "sample_size = 5000\n",
    "for focus_name, focus_code in zip(focus_names, focus_codes):\n",
    "    for dataset_name in list(raw_datasets.keys()):\n",
    "        labelencoder = LabelEncoder()\n",
    "        \n",
    "        dataset_masked = raw_datasets[dataset_name][raw_datasets[dataset_name][focus_code].notna()]\n",
    "        dataset_masked = dataset_masked[dataset_masked[focus_code].apply(lambda x: x in label_map[focus_name].keys())].sample(sample_size)\n",
    "        dataset_masked[focus_code + \"_encoded\"] = labelencoder.fit_transform(dataset_masked[focus_code])\n",
    "\n",
    "        indices_train, indices_test \\\n",
    "            = train_test_split(dataset_masked.index.values, test_size=0.25, random_state=42)\n",
    "            \n",
    "        df_train = dataset_masked.loc[indices_train, [\"BERT_description\", focus_code]]\n",
    "        df_train.columns = [\"text\", \"labels\"]\n",
    "        df_test = dataset_masked.loc[indices_test, [\"BERT_description\", focus_code]]\n",
    "        df_test.columns = [\"text\", \"labels\"]\n",
    "        \n",
    "        preprocessed_dataset_dict[dataset_name, focus_name, \"train\"] = df_train\n",
    "        preprocessed_dataset_dict[dataset_name, focus_name, \"validation\"] = df_test"
   ]
  },
  {
   "attachments": {},
   "cell_type": "markdown",
   "id": "a992ccca",
   "metadata": {},
   "source": [
    "# Regex"
   ]
  },
  {
   "attachments": {},
   "cell_type": "markdown",
   "id": "1da14470",
   "metadata": {},
   "source": [
    "## Simple Regex Script"
   ]
  },
  {
   "cell_type": "code",
   "execution_count": 14,
   "id": "6dce433d",
   "metadata": {},
   "outputs": [],
   "source": [
    "model_name = \"Regex_Simple\"\n",
    "representation_name = \"Regex_Simple\""
   ]
  },
  {
   "cell_type": "code",
   "execution_count": 16,
   "id": "4d53b6fd",
   "metadata": {},
   "outputs": [],
   "source": [
    "regex_keywords_dict = {}\n",
    "for trait in trait_values_dict[\"1.2.1\"]:\n",
    "    regex_keywords_dict[\"1.2.1\", trait] = [i for i in [trait]]\n",
    "\n",
    "for trait in trait_values_dict[\"2.3.1\"]:\n",
    "    regex_keywords_dict[\"2.3.1\", trait] = [i for i in [trait]]\n"
   ]
  },
  {
   "cell_type": "code",
   "execution_count": 29,
   "id": "9b5bbc49",
   "metadata": {},
   "outputs": [
    {
     "name": "stdout",
     "output_type": "stream",
     "text": [
      "Trait: Growth Form\n",
      "\tDataset: POWO\n",
      "\tDataset: WIKI\n",
      "Trait: Life Form\n",
      "\tDataset: POWO\n",
      "\tDataset: WIKI\n"
     ]
    },
    {
     "name": "stderr",
     "output_type": "stream",
     "text": [
      "c:\\Users\\Admin\\anaconda3\\lib\\site-packages\\sklearn\\metrics\\_classification.py:1334: UndefinedMetricWarning: Precision is ill-defined and being set to 0.0 due to no predicted samples. Use `zero_division` parameter to control this behavior.\n",
      "  _warn_prf(average, modifier, msg_start, len(result))\n",
      "c:\\Users\\Admin\\anaconda3\\lib\\site-packages\\sklearn\\metrics\\_classification.py:1334: UndefinedMetricWarning: Precision is ill-defined and being set to 0.0 due to no predicted samples. Use `zero_division` parameter to control this behavior.\n",
      "  _warn_prf(average, modifier, msg_start, len(result))\n",
      "c:\\Users\\Admin\\anaconda3\\lib\\site-packages\\sklearn\\metrics\\_classification.py:1334: UndefinedMetricWarning: Precision is ill-defined and being set to 0.0 due to no predicted samples. Use `zero_division` parameter to control this behavior.\n",
      "  _warn_prf(average, modifier, msg_start, len(result))\n",
      "c:\\Users\\Admin\\anaconda3\\lib\\site-packages\\sklearn\\metrics\\_classification.py:1334: UndefinedMetricWarning: Precision is ill-defined and being set to 0.0 due to no predicted samples. Use `zero_division` parameter to control this behavior.\n",
      "  _warn_prf(average, modifier, msg_start, len(result))\n",
      "c:\\Users\\Admin\\anaconda3\\lib\\site-packages\\sklearn\\metrics\\_classification.py:1334: UndefinedMetricWarning: Precision is ill-defined and being set to 0.0 due to no predicted samples. Use `zero_division` parameter to control this behavior.\n",
      "  _warn_prf(average, modifier, msg_start, len(result))\n",
      "c:\\Users\\Admin\\anaconda3\\lib\\site-packages\\sklearn\\metrics\\_classification.py:1334: UndefinedMetricWarning: Precision is ill-defined and being set to 0.0 due to no predicted samples. Use `zero_division` parameter to control this behavior.\n",
      "  _warn_prf(average, modifier, msg_start, len(result))\n",
      "c:\\Users\\Admin\\anaconda3\\lib\\site-packages\\sklearn\\metrics\\_classification.py:1334: UndefinedMetricWarning: Precision is ill-defined and being set to 0.0 due to no predicted samples. Use `zero_division` parameter to control this behavior.\n",
      "  _warn_prf(average, modifier, msg_start, len(result))\n",
      "c:\\Users\\Admin\\anaconda3\\lib\\site-packages\\sklearn\\metrics\\_classification.py:1334: UndefinedMetricWarning: Precision is ill-defined and being set to 0.0 due to no predicted samples. Use `zero_division` parameter to control this behavior.\n",
      "  _warn_prf(average, modifier, msg_start, len(result))\n"
     ]
    }
   ],
   "source": [
    "tmp_tmp_list = []\n",
    "for focus_name, focus_code in zip(trait_names_cat, traits_cat):\n",
    "    print(\"Trait:\", focus_name)\n",
    "    for dataset_name in list(raw_datasets.keys()):\n",
    "        print(\"\\tDataset:\", dataset_name)\n",
    "          \n",
    "        y = {trait: 1*preprocessed_dataset_dict[dataset_name, focus_name, \"validation\"][\"labels\"].apply(lambda x: trait == x) for trait in trait_values_dict[focus_code]}\n",
    "\n",
    "        y_test = dict()\n",
    "        for i, trait_value in enumerate(trait_values_dict[focus_code]):\n",
    "            # print(i, trait_value)\n",
    "            y_test[dataset_name, focus_name, trait_value] = y[trait_value]\n",
    "        \n",
    "        tmp_list = []\n",
    "        for i, trait_value in enumerate(trait_values_dict[focus_code]):\n",
    "            # print(trait_value, i)\n",
    "            \n",
    "            y_predict_class = np.zeros(y_test[dataset_name, focus_name, trait_value].shape)\n",
    "            for keyword in regex_keywords_dict[focus_code, trait_value]:\n",
    "                y_predict_class += pd.Series(preprocessed_dataset_dict[dataset_name, focus_name, \"validation\"][\"text\"]).apply(lambda x: keyword in x.split(\" \"))\n",
    "            y_predict_class = np.where(y_predict_class>0, 1, 0)\n",
    "            y_test_class = y_test[dataset_name, focus_name, trait_value]\n",
    "    \n",
    "            acc_gift = accuracy_score(y_test_class, y_predict_class)\n",
    "            prec_gift = precision_score(y_test_class, y_predict_class)\n",
    "            rec_gift = recall_score(y_test_class, y_predict_class)\n",
    "            f1_gift = f1_score(y_test_class, y_predict_class)\n",
    "\n",
    "            results = [acc_gift, prec_gift, rec_gift, f1_gift]\n",
    "            tmp_list.append([dataset_name, dataset_name, focus_name, trait_value] + results + [model_name, representation_name])\n",
    "\n",
    "        tmp_list.append([dataset_name, dataset_name, focus_name, focus_name] + list(np.mean(np.array(tmp_list)[:, 4:8].astype(float), axis=0)) + [model_name, representation_name])\n",
    "   \n",
    "        tmp_tmp_list.append(tmp_list)"
   ]
  },
  {
   "cell_type": "code",
   "execution_count": 30,
   "id": "70bc23ec",
   "metadata": {},
   "outputs": [
    {
     "data": {
      "text/html": [
       "<div>\n",
       "<style scoped>\n",
       "    .dataframe tbody tr th:only-of-type {\n",
       "        vertical-align: middle;\n",
       "    }\n",
       "\n",
       "    .dataframe tbody tr th {\n",
       "        vertical-align: top;\n",
       "    }\n",
       "\n",
       "    .dataframe thead th {\n",
       "        text-align: right;\n",
       "    }\n",
       "</style>\n",
       "<table border=\"1\" class=\"dataframe\">\n",
       "  <thead>\n",
       "    <tr style=\"text-align: right;\">\n",
       "      <th></th>\n",
       "      <th>Train Dataset</th>\n",
       "      <th>Test Dataset</th>\n",
       "      <th>Trait</th>\n",
       "      <th>Trait Value</th>\n",
       "      <th>Accuracy</th>\n",
       "      <th>Precision</th>\n",
       "      <th>Recall</th>\n",
       "      <th>F1-Score</th>\n",
       "      <th>Model</th>\n",
       "      <th>Representation</th>\n",
       "    </tr>\n",
       "  </thead>\n",
       "  <tbody>\n",
       "    <tr>\n",
       "      <th>0</th>\n",
       "      <td>POWO</td>\n",
       "      <td>POWO</td>\n",
       "      <td>Growth Form</td>\n",
       "      <td>herb</td>\n",
       "      <td>0.500000</td>\n",
       "      <td>0.920981</td>\n",
       "      <td>0.361884</td>\n",
       "      <td>0.519600</td>\n",
       "      <td>Regex_Simple</td>\n",
       "      <td>Regex_Simple</td>\n",
       "    </tr>\n",
       "    <tr>\n",
       "      <th>1</th>\n",
       "      <td>POWO</td>\n",
       "      <td>POWO</td>\n",
       "      <td>Growth Form</td>\n",
       "      <td>shrub</td>\n",
       "      <td>0.874400</td>\n",
       "      <td>0.543046</td>\n",
       "      <td>0.482353</td>\n",
       "      <td>0.510903</td>\n",
       "      <td>Regex_Simple</td>\n",
       "      <td>Regex_Simple</td>\n",
       "    </tr>\n",
       "    <tr>\n",
       "      <th>2</th>\n",
       "      <td>POWO</td>\n",
       "      <td>POWO</td>\n",
       "      <td>Growth Form</td>\n",
       "      <td>tree</td>\n",
       "      <td>0.952800</td>\n",
       "      <td>0.837209</td>\n",
       "      <td>0.739726</td>\n",
       "      <td>0.785455</td>\n",
       "      <td>Regex_Simple</td>\n",
       "      <td>Regex_Simple</td>\n",
       "    </tr>\n",
       "    <tr>\n",
       "      <th>3</th>\n",
       "      <td>POWO</td>\n",
       "      <td>POWO</td>\n",
       "      <td>Growth Form</td>\n",
       "      <td>Growth Form</td>\n",
       "      <td>0.775733</td>\n",
       "      <td>0.767079</td>\n",
       "      <td>0.527988</td>\n",
       "      <td>0.605319</td>\n",
       "      <td>Regex_Simple</td>\n",
       "      <td>Regex_Simple</td>\n",
       "    </tr>\n",
       "    <tr>\n",
       "      <th>4</th>\n",
       "      <td>WIKI</td>\n",
       "      <td>WIKI</td>\n",
       "      <td>Growth Form</td>\n",
       "      <td>herb</td>\n",
       "      <td>0.616800</td>\n",
       "      <td>0.954286</td>\n",
       "      <td>0.261755</td>\n",
       "      <td>0.410824</td>\n",
       "      <td>Regex_Simple</td>\n",
       "      <td>Regex_Simple</td>\n",
       "    </tr>\n",
       "    <tr>\n",
       "      <th>5</th>\n",
       "      <td>WIKI</td>\n",
       "      <td>WIKI</td>\n",
       "      <td>Growth Form</td>\n",
       "      <td>shrub</td>\n",
       "      <td>0.892800</td>\n",
       "      <td>0.783784</td>\n",
       "      <td>0.669231</td>\n",
       "      <td>0.721992</td>\n",
       "      <td>Regex_Simple</td>\n",
       "      <td>Regex_Simple</td>\n",
       "    </tr>\n",
       "    <tr>\n",
       "      <th>6</th>\n",
       "      <td>WIKI</td>\n",
       "      <td>WIKI</td>\n",
       "      <td>Growth Form</td>\n",
       "      <td>tree</td>\n",
       "      <td>0.839200</td>\n",
       "      <td>0.861244</td>\n",
       "      <td>0.511364</td>\n",
       "      <td>0.641711</td>\n",
       "      <td>Regex_Simple</td>\n",
       "      <td>Regex_Simple</td>\n",
       "    </tr>\n",
       "    <tr>\n",
       "      <th>7</th>\n",
       "      <td>WIKI</td>\n",
       "      <td>WIKI</td>\n",
       "      <td>Growth Form</td>\n",
       "      <td>Growth Form</td>\n",
       "      <td>0.782933</td>\n",
       "      <td>0.866438</td>\n",
       "      <td>0.480783</td>\n",
       "      <td>0.591509</td>\n",
       "      <td>Regex_Simple</td>\n",
       "      <td>Regex_Simple</td>\n",
       "    </tr>\n",
       "    <tr>\n",
       "      <th>8</th>\n",
       "      <td>POWO</td>\n",
       "      <td>POWO</td>\n",
       "      <td>Life Form</td>\n",
       "      <td>phanerophyte</td>\n",
       "      <td>0.776800</td>\n",
       "      <td>0.000000</td>\n",
       "      <td>0.000000</td>\n",
       "      <td>0.000000</td>\n",
       "      <td>Regex_Simple</td>\n",
       "      <td>Regex_Simple</td>\n",
       "    </tr>\n",
       "    <tr>\n",
       "      <th>9</th>\n",
       "      <td>POWO</td>\n",
       "      <td>POWO</td>\n",
       "      <td>Life Form</td>\n",
       "      <td>chamaephyte</td>\n",
       "      <td>0.917600</td>\n",
       "      <td>0.000000</td>\n",
       "      <td>0.000000</td>\n",
       "      <td>0.000000</td>\n",
       "      <td>Regex_Simple</td>\n",
       "      <td>Regex_Simple</td>\n",
       "    </tr>\n",
       "    <tr>\n",
       "      <th>10</th>\n",
       "      <td>POWO</td>\n",
       "      <td>POWO</td>\n",
       "      <td>Life Form</td>\n",
       "      <td>hemicryptophyte</td>\n",
       "      <td>0.602400</td>\n",
       "      <td>0.000000</td>\n",
       "      <td>0.000000</td>\n",
       "      <td>0.000000</td>\n",
       "      <td>Regex_Simple</td>\n",
       "      <td>Regex_Simple</td>\n",
       "    </tr>\n",
       "    <tr>\n",
       "      <th>11</th>\n",
       "      <td>POWO</td>\n",
       "      <td>POWO</td>\n",
       "      <td>Life Form</td>\n",
       "      <td>cryptophyte</td>\n",
       "      <td>0.905600</td>\n",
       "      <td>0.000000</td>\n",
       "      <td>0.000000</td>\n",
       "      <td>0.000000</td>\n",
       "      <td>Regex_Simple</td>\n",
       "      <td>Regex_Simple</td>\n",
       "    </tr>\n",
       "    <tr>\n",
       "      <th>12</th>\n",
       "      <td>POWO</td>\n",
       "      <td>POWO</td>\n",
       "      <td>Life Form</td>\n",
       "      <td>therophyte</td>\n",
       "      <td>0.797600</td>\n",
       "      <td>0.000000</td>\n",
       "      <td>0.000000</td>\n",
       "      <td>0.000000</td>\n",
       "      <td>Regex_Simple</td>\n",
       "      <td>Regex_Simple</td>\n",
       "    </tr>\n",
       "    <tr>\n",
       "      <th>13</th>\n",
       "      <td>POWO</td>\n",
       "      <td>POWO</td>\n",
       "      <td>Life Form</td>\n",
       "      <td>Life Form</td>\n",
       "      <td>0.800000</td>\n",
       "      <td>0.000000</td>\n",
       "      <td>0.000000</td>\n",
       "      <td>0.000000</td>\n",
       "      <td>Regex_Simple</td>\n",
       "      <td>Regex_Simple</td>\n",
       "    </tr>\n",
       "    <tr>\n",
       "      <th>14</th>\n",
       "      <td>WIKI</td>\n",
       "      <td>WIKI</td>\n",
       "      <td>Life Form</td>\n",
       "      <td>phanerophyte</td>\n",
       "      <td>0.626400</td>\n",
       "      <td>0.000000</td>\n",
       "      <td>0.000000</td>\n",
       "      <td>0.000000</td>\n",
       "      <td>Regex_Simple</td>\n",
       "      <td>Regex_Simple</td>\n",
       "    </tr>\n",
       "    <tr>\n",
       "      <th>15</th>\n",
       "      <td>WIKI</td>\n",
       "      <td>WIKI</td>\n",
       "      <td>Life Form</td>\n",
       "      <td>chamaephyte</td>\n",
       "      <td>0.934400</td>\n",
       "      <td>1.000000</td>\n",
       "      <td>0.012048</td>\n",
       "      <td>0.023810</td>\n",
       "      <td>Regex_Simple</td>\n",
       "      <td>Regex_Simple</td>\n",
       "    </tr>\n",
       "    <tr>\n",
       "      <th>16</th>\n",
       "      <td>WIKI</td>\n",
       "      <td>WIKI</td>\n",
       "      <td>Life Form</td>\n",
       "      <td>hemicryptophyte</td>\n",
       "      <td>0.821600</td>\n",
       "      <td>0.000000</td>\n",
       "      <td>0.000000</td>\n",
       "      <td>0.000000</td>\n",
       "      <td>Regex_Simple</td>\n",
       "      <td>Regex_Simple</td>\n",
       "    </tr>\n",
       "    <tr>\n",
       "      <th>17</th>\n",
       "      <td>WIKI</td>\n",
       "      <td>WIKI</td>\n",
       "      <td>Life Form</td>\n",
       "      <td>cryptophyte</td>\n",
       "      <td>0.808000</td>\n",
       "      <td>0.000000</td>\n",
       "      <td>0.000000</td>\n",
       "      <td>0.000000</td>\n",
       "      <td>Regex_Simple</td>\n",
       "      <td>Regex_Simple</td>\n",
       "    </tr>\n",
       "    <tr>\n",
       "      <th>18</th>\n",
       "      <td>WIKI</td>\n",
       "      <td>WIKI</td>\n",
       "      <td>Life Form</td>\n",
       "      <td>therophyte</td>\n",
       "      <td>0.811200</td>\n",
       "      <td>1.000000</td>\n",
       "      <td>0.004219</td>\n",
       "      <td>0.008403</td>\n",
       "      <td>Regex_Simple</td>\n",
       "      <td>Regex_Simple</td>\n",
       "    </tr>\n",
       "    <tr>\n",
       "      <th>19</th>\n",
       "      <td>WIKI</td>\n",
       "      <td>WIKI</td>\n",
       "      <td>Life Form</td>\n",
       "      <td>Life Form</td>\n",
       "      <td>0.800320</td>\n",
       "      <td>0.400000</td>\n",
       "      <td>0.003254</td>\n",
       "      <td>0.006443</td>\n",
       "      <td>Regex_Simple</td>\n",
       "      <td>Regex_Simple</td>\n",
       "    </tr>\n",
       "  </tbody>\n",
       "</table>\n",
       "</div>"
      ],
      "text/plain": [
       "   Train Dataset Test Dataset        Trait      Trait Value  Accuracy  \\\n",
       "0           POWO         POWO  Growth Form             herb  0.500000   \n",
       "1           POWO         POWO  Growth Form            shrub  0.874400   \n",
       "2           POWO         POWO  Growth Form             tree  0.952800   \n",
       "3           POWO         POWO  Growth Form      Growth Form  0.775733   \n",
       "4           WIKI         WIKI  Growth Form             herb  0.616800   \n",
       "5           WIKI         WIKI  Growth Form            shrub  0.892800   \n",
       "6           WIKI         WIKI  Growth Form             tree  0.839200   \n",
       "7           WIKI         WIKI  Growth Form      Growth Form  0.782933   \n",
       "8           POWO         POWO    Life Form     phanerophyte  0.776800   \n",
       "9           POWO         POWO    Life Form      chamaephyte  0.917600   \n",
       "10          POWO         POWO    Life Form  hemicryptophyte  0.602400   \n",
       "11          POWO         POWO    Life Form      cryptophyte  0.905600   \n",
       "12          POWO         POWO    Life Form       therophyte  0.797600   \n",
       "13          POWO         POWO    Life Form        Life Form  0.800000   \n",
       "14          WIKI         WIKI    Life Form     phanerophyte  0.626400   \n",
       "15          WIKI         WIKI    Life Form      chamaephyte  0.934400   \n",
       "16          WIKI         WIKI    Life Form  hemicryptophyte  0.821600   \n",
       "17          WIKI         WIKI    Life Form      cryptophyte  0.808000   \n",
       "18          WIKI         WIKI    Life Form       therophyte  0.811200   \n",
       "19          WIKI         WIKI    Life Form        Life Form  0.800320   \n",
       "\n",
       "    Precision    Recall  F1-Score         Model Representation  \n",
       "0    0.920981  0.361884  0.519600  Regex_Simple   Regex_Simple  \n",
       "1    0.543046  0.482353  0.510903  Regex_Simple   Regex_Simple  \n",
       "2    0.837209  0.739726  0.785455  Regex_Simple   Regex_Simple  \n",
       "3    0.767079  0.527988  0.605319  Regex_Simple   Regex_Simple  \n",
       "4    0.954286  0.261755  0.410824  Regex_Simple   Regex_Simple  \n",
       "5    0.783784  0.669231  0.721992  Regex_Simple   Regex_Simple  \n",
       "6    0.861244  0.511364  0.641711  Regex_Simple   Regex_Simple  \n",
       "7    0.866438  0.480783  0.591509  Regex_Simple   Regex_Simple  \n",
       "8    0.000000  0.000000  0.000000  Regex_Simple   Regex_Simple  \n",
       "9    0.000000  0.000000  0.000000  Regex_Simple   Regex_Simple  \n",
       "10   0.000000  0.000000  0.000000  Regex_Simple   Regex_Simple  \n",
       "11   0.000000  0.000000  0.000000  Regex_Simple   Regex_Simple  \n",
       "12   0.000000  0.000000  0.000000  Regex_Simple   Regex_Simple  \n",
       "13   0.000000  0.000000  0.000000  Regex_Simple   Regex_Simple  \n",
       "14   0.000000  0.000000  0.000000  Regex_Simple   Regex_Simple  \n",
       "15   1.000000  0.012048  0.023810  Regex_Simple   Regex_Simple  \n",
       "16   0.000000  0.000000  0.000000  Regex_Simple   Regex_Simple  \n",
       "17   0.000000  0.000000  0.000000  Regex_Simple   Regex_Simple  \n",
       "18   1.000000  0.004219  0.008403  Regex_Simple   Regex_Simple  \n",
       "19   0.400000  0.003254  0.006443  Regex_Simple   Regex_Simple  "
      ]
     },
     "execution_count": 30,
     "metadata": {},
     "output_type": "execute_result"
    }
   ],
   "source": [
    "from itertools import chain\n",
    "unfolded = list(chain.from_iterable(i if isinstance(i, list) else [i] for i in tmp_tmp_list))\n",
    "df_results = pd.DataFrame(unfolded, columns=[\"Train Dataset\", \"Test Dataset\", \"Trait\", \"Trait Value\", \"Accuracy\", \"Precision\", \"Recall\", \"F1-Score\", \"Model\", \"Representation\"])\n",
    "df_results"
   ]
  },
  {
   "attachments": {},
   "cell_type": "markdown",
   "id": "5e3595ca",
   "metadata": {},
   "source": [
    "### Save Results"
   ]
  },
  {
   "cell_type": "code",
   "execution_count": 31,
   "id": "faba5a12",
   "metadata": {
    "ExecuteTime": {
     "end_time": "2022-10-17T09:27:15.106689Z",
     "start_time": "2022-10-17T09:27:15.094344Z"
    }
   },
   "outputs": [],
   "source": [
    "df_results.to_excel(\"Results//Regex_Simple_Results.xlsx\", index=False)"
   ]
  },
  {
   "cell_type": "code",
   "execution_count": null,
   "id": "49b73b1b",
   "metadata": {},
   "outputs": [],
   "source": []
  }
 ],
 "metadata": {
  "kernelspec": {
   "display_name": "Python 3 (ipykernel)",
   "language": "python",
   "name": "python3"
  },
  "language_info": {
   "codemirror_mode": {
    "name": "ipython",
    "version": 3
   },
   "file_extension": ".py",
   "mimetype": "text/x-python",
   "name": "python",
   "nbconvert_exporter": "python",
   "pygments_lexer": "ipython3",
   "version": "3.9.13"
  },
  "toc": {
   "base_numbering": 1,
   "nav_menu": {},
   "number_sections": true,
   "sideBar": true,
   "skip_h1_title": false,
   "title_cell": "Table of Contents",
   "title_sidebar": "Contents",
   "toc_cell": false,
   "toc_position": {
    "height": "calc(100% - 180px)",
    "left": "10px",
    "top": "150px",
    "width": "341.333px"
   },
   "toc_section_display": true,
   "toc_window_display": true
  },
  "varInspector": {
   "cols": {
    "lenName": 16,
    "lenType": 16,
    "lenVar": 40
   },
   "kernels_config": {
    "python": {
     "delete_cmd_postfix": "",
     "delete_cmd_prefix": "del ",
     "library": "var_list.py",
     "varRefreshCmd": "print(var_dic_list())"
    },
    "r": {
     "delete_cmd_postfix": ") ",
     "delete_cmd_prefix": "rm(",
     "library": "var_list.r",
     "varRefreshCmd": "cat(var_dic_list()) "
    }
   },
   "types_to_exclude": [
    "module",
    "function",
    "builtin_function_or_method",
    "instance",
    "_Feature"
   ],
   "window_display": false
  }
 },
 "nbformat": 4,
 "nbformat_minor": 5
}
