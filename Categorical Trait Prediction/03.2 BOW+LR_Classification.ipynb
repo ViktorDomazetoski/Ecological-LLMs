{
 "cells": [
  {
   "attachments": {},
   "cell_type": "markdown",
   "id": "f0a37fd5",
   "metadata": {},
   "source": [
    "# Libraries & Functions"
   ]
  },
  {
   "cell_type": "code",
   "execution_count": 1,
   "id": "77642979",
   "metadata": {
    "ExecuteTime": {
     "end_time": "2023-01-10T13:21:29.150256Z",
     "start_time": "2023-01-10T13:21:28.379404Z"
    }
   },
   "outputs": [],
   "source": [
    "'''Math & Data Libraries'''\n",
    "import numpy as np\n",
    "import pandas as pd"
   ]
  },
  {
   "cell_type": "code",
   "execution_count": 13,
   "id": "2b7204c2",
   "metadata": {
    "ExecuteTime": {
     "end_time": "2023-01-10T13:21:35.279003Z",
     "start_time": "2023-01-10T13:21:35.264001Z"
    }
   },
   "outputs": [],
   "source": [
    "'''ML Libraries'''\n",
    "from sklearn.feature_extraction.text import CountVectorizer\n",
    "from sklearn.model_selection import train_test_split\n",
    "from sklearn.preprocessing import LabelEncoder\n",
    "\n",
    "from sklearn.linear_model import LogisticRegression\n",
    "from sklearn.metrics import accuracy_score, precision_score, recall_score, f1_score"
   ]
  },
  {
   "cell_type": "code",
   "execution_count": 3,
   "id": "a0f93a72",
   "metadata": {
    "ExecuteTime": {
     "end_time": "2023-01-10T13:21:38.227406Z",
     "start_time": "2023-01-10T13:21:38.215257Z"
    }
   },
   "outputs": [],
   "source": [
    "model_name = \"Logistic Regression\"\n",
    "representation_name = \"Bag of Words\""
   ]
  },
  {
   "cell_type": "code",
   "execution_count": 4,
   "id": "1096fc8f",
   "metadata": {},
   "outputs": [],
   "source": [
    "def calculate_scores(y_test, y_pred, average = \"binary\"):\n",
    "    accuracy = accuracy_score(y_test, y_pred)\n",
    "    precision = precision_score(y_test, y_pred, average = average)\n",
    "    recall = recall_score(y_test, y_pred, average = average)\n",
    "    f1 = f1_score(y_test, y_pred, average = average)\n",
    "    return [accuracy, precision, recall, f1]"
   ]
  },
  {
   "cell_type": "code",
   "execution_count": 5,
   "id": "5c40cf28",
   "metadata": {},
   "outputs": [],
   "source": [
    "trait_values_dict = {}\n",
    "trait_values_dict[\"1.2.1\"] = [\"herb\", \"shrub\", \"tree\"]\n",
    "# trait_values_dict[\"1.3.1\"] = [\"obligatory\", \"terrestrial\"]\n",
    "# trait_values_dict[\"1.4.1\"] = [\"obligatory\", \"self-supporting\"]\n",
    "# trait_values_dict[\"2.1.1\"] = [\"annual\", \"perennial\"]\n",
    "trait_values_dict[\"2.3.1\"] = [\"phanerophyte\", \"chamaephyte\", \"hemicryptophyte\", \"cryptophyte\", \"therophyte\"]\n",
    "\n",
    "trait_names_cat = [\"Growth Form\", \"Life Form\"] #\"Epiphyte\", \"Climber\", \"Lifecycle\", \n",
    "traits_cat = [\"1.2.1\", \"2.3.1\"] #\"1.3.1\", \"1.4.1\", \"2.1.1\", "
   ]
  },
  {
   "cell_type": "code",
   "execution_count": 11,
   "id": "4e8fb556",
   "metadata": {},
   "outputs": [],
   "source": [
    "focus_names = [\"Growth Form\", \"Life Form\"]\n",
    "focus_codes = [\"1.2.1\", \"2.3.1\"]"
   ]
  },
  {
   "attachments": {},
   "cell_type": "markdown",
   "id": "8ae76750",
   "metadata": {},
   "source": [
    "# Input Data"
   ]
  },
  {
   "cell_type": "code",
   "execution_count": 6,
   "id": "93462fd5",
   "metadata": {},
   "outputs": [],
   "source": [
    "raw_datasets = dict()"
   ]
  },
  {
   "cell_type": "markdown",
   "id": "cdc58fa3",
   "metadata": {},
   "source": [
    "## POWO Dataset"
   ]
  },
  {
   "cell_type": "code",
   "execution_count": 8,
   "id": "318d777a",
   "metadata": {},
   "outputs": [],
   "source": [
    "working_dir = \"..//Datasets//\" \n",
    "\n",
    "df_POWO_Cat =  pd.read_excel(working_dir + \"POWO_GIFT.xlsx\")\n",
    "df_POWO_Cat_Preproc = df_POWO_Cat.drop_duplicates(subset = [\"BERT_description\"])\n",
    "df_POWO_Cat_Preproc = df_POWO_Cat_Preproc[df_POWO_Cat_Preproc[\"BERT_description\"].apply(lambda x: len(x.split(\" \")))>10]\n",
    "raw_datasets[\"POWO\"] = df_POWO_Cat_Preproc"
   ]
  },
  {
   "cell_type": "markdown",
   "id": "64088dc4",
   "metadata": {},
   "source": [
    "## WIKI Dataset"
   ]
  },
  {
   "cell_type": "code",
   "execution_count": 9,
   "id": "c08132f1",
   "metadata": {},
   "outputs": [],
   "source": [
    "def fix_WIKI(name, description):\n",
    "    for n in name.split(\" \"):\n",
    "        description = str(description).replace(n.lower(), \"\")\n",
    "    return description.strip()"
   ]
  },
  {
   "cell_type": "code",
   "execution_count": 10,
   "id": "461cf99e",
   "metadata": {},
   "outputs": [
    {
     "name": "stderr",
     "output_type": "stream",
     "text": [
      "C:\\Users\\Admin\\AppData\\Local\\Temp\\ipykernel_54720\\4160230578.py:5: SettingWithCopyWarning: \n",
      "A value is trying to be set on a copy of a slice from a DataFrame.\n",
      "Try using .loc[row_indexer,col_indexer] = value instead\n",
      "\n",
      "See the caveats in the documentation: https://pandas.pydata.org/pandas-docs/stable/user_guide/indexing.html#returning-a-view-versus-a-copy\n",
      "  df_WIKI_Cat_Preproc[\"BERT_description\"] = df_WIKI_Cat_Preproc[[\"name\", \"BERT_description\"]].apply(lambda x: fix_WIKI(x[0], x[1]), axis = 1)\n"
     ]
    }
   ],
   "source": [
    "working_dir = \"..//Datasets//\" \n",
    "\n",
    "df_WIKI_Cat =  pd.read_excel(working_dir + \"WIKI_GIFT.xlsx\")\n",
    "df_WIKI_Cat_Preproc = df_WIKI_Cat.drop_duplicates(subset = [\"BERT_description\"])\n",
    "df_WIKI_Cat_Preproc[\"BERT_description\"] = df_WIKI_Cat_Preproc[[\"name\", \"BERT_description\"]].apply(lambda x: fix_WIKI(x[0], x[1]), axis = 1)\n",
    "df_WIKI_Cat_Preproc = df_WIKI_Cat_Preproc[df_WIKI_Cat_Preproc[\"BERT_description\"].apply(lambda x: len(str(x).split(\" \")))>10]\n",
    "raw_datasets[\"WIKI\"] = df_WIKI_Cat_Preproc"
   ]
  },
  {
   "cell_type": "markdown",
   "id": "ea465ab6",
   "metadata": {},
   "source": [
    "## Preprocess Datasets"
   ]
  },
  {
   "cell_type": "code",
   "execution_count": 12,
   "id": "88da11ba",
   "metadata": {},
   "outputs": [],
   "source": [
    "label_map = {\n",
    "    \"Growth Form\": {\"herb\": 0, \"shrub\": 1, \"tree\": 2},\n",
    "    \"Life Form\": {\"phanerophyte\": 0, \"chamaephyte\": 1, \"hemicryptophyte\": 2, \"cryptophyte\": 3, \"therophyte\": 4},\n",
    "}\n"
   ]
  },
  {
   "cell_type": "code",
   "execution_count": 21,
   "id": "6120b83b",
   "metadata": {},
   "outputs": [],
   "source": [
    "preprocessed_dataset_dict = {}\n",
    "sample_size = 5000\n",
    "for focus_name, focus_code in zip(focus_names, focus_codes):\n",
    "    for dataset_name in list(raw_datasets.keys()):\n",
    "        labelencoder = LabelEncoder()\n",
    "        count_vect = CountVectorizer(max_features = 1000)\n",
    "\n",
    "        dataset_masked = raw_datasets[dataset_name][raw_datasets[dataset_name][focus_code].notna()]\n",
    "        dataset_masked = dataset_masked[dataset_masked[focus_code].apply(lambda x: x in label_map[focus_name].keys())].sample(sample_size)\n",
    "        dataset_masked[focus_code + \"_encoded\"] = labelencoder.fit_transform(dataset_masked[focus_code])\n",
    "\n",
    "        indices_train, indices_test \\\n",
    "            = train_test_split(dataset_masked.index.values, test_size=0.25, random_state=42)\n",
    "            \n",
    "        df_train = dataset_masked.loc[indices_train, [\"BERT_description\", focus_code + \"_encoded\"]]\n",
    "        df_train.columns = [\"text\", \"labels\"]\n",
    "        df_test = dataset_masked.loc[indices_test, [\"BERT_description\", focus_code + \"_encoded\"]]\n",
    "        df_test.columns = [\"text\", \"labels\"]\n",
    "        \n",
    "        count_vect.fit(df_train[\"text\"].values)\n",
    "\n",
    "        preprocessed_dataset_dict[dataset_name, focus_name, \"train_countVect\"] = count_vect.transform(df_train[\"text\"].values).toarray()\n",
    "        preprocessed_dataset_dict[dataset_name, focus_name, \"validation_countVect\"] = count_vect.transform(df_test[\"text\"].values).toarray()\n",
    "\n",
    "        preprocessed_dataset_dict[dataset_name, focus_name, \"train\"] = df_train\n",
    "        preprocessed_dataset_dict[dataset_name, focus_name, \"validation\"] = df_test"
   ]
  },
  {
   "attachments": {},
   "cell_type": "markdown",
   "id": "a992ccca",
   "metadata": {},
   "source": [
    "# Model Training & Evaluation"
   ]
  },
  {
   "attachments": {},
   "cell_type": "markdown",
   "id": "1da14470",
   "metadata": {},
   "source": [
    "## Logistic Regression Model"
   ]
  },
  {
   "cell_type": "code",
   "execution_count": 26,
   "id": "c292a6fc",
   "metadata": {},
   "outputs": [
    {
     "name": "stdout",
     "output_type": "stream",
     "text": [
      "Dataset: POWO\n",
      "\tTrait: Growth Form\n",
      "\t\tTrait Value: herb 0\n",
      "\t\tTrait Value: shrub 1\n",
      "\t\tTrait Value: tree 2\n",
      "Dataset: POWO\n",
      "\tTrait: Life Form\n",
      "\t\tTrait Value: phanerophyte 0\n",
      "\t\tTrait Value: chamaephyte 1\n",
      "\t\tTrait Value: hemicryptophyte 2\n",
      "\t\tTrait Value: cryptophyte 3\n",
      "\t\tTrait Value: therophyte 4\n",
      "Dataset: WIKI\n",
      "\tTrait: Growth Form\n",
      "\t\tTrait Value: herb 0\n",
      "\t\tTrait Value: shrub 1\n",
      "\t\tTrait Value: tree 2\n",
      "Dataset: WIKI\n",
      "\tTrait: Life Form\n",
      "\t\tTrait Value: phanerophyte 0\n",
      "\t\tTrait Value: chamaephyte 1\n",
      "\t\tTrait Value: hemicryptophyte 2\n",
      "\t\tTrait Value: cryptophyte 3\n",
      "\t\tTrait Value: therophyte 4\n"
     ]
    }
   ],
   "source": [
    "result_list = []\n",
    "for dataset_name in list(raw_datasets.keys()):\n",
    "  for focus_name, focus_code in zip(focus_names, focus_codes):\n",
    "    print(\"Dataset:\", dataset_name)\n",
    "    print(\"\\tTrait:\", focus_name)\n",
    "\n",
    "    model = LogisticRegression(max_iter=1000)\n",
    "\n",
    "    model.fit(preprocessed_dataset_dict[dataset_name, focus_name, \"train_countVect\"], preprocessed_dataset_dict[dataset_name, focus_name, \"train\"][\"labels\"])    \n",
    "    y_predict = model.predict(preprocessed_dataset_dict[dataset_name, focus_name, \"validation_countVect\"])\n",
    "\n",
    "    results = calculate_scores(preprocessed_dataset_dict[dataset_name, focus_name, \"validation\"][\"labels\"], y_predict, average = \"macro\")\n",
    "\n",
    "    result_list.append([dataset_name, dataset_name, focus_name, focus_name] + results + [model_name, representation_name])\n",
    "    \n",
    "    for i, trait_value in enumerate(trait_values_dict[focus_code]):\n",
    "      print(\"\\t\\tTrait Value:\", trait_value, i)\n",
    "      \n",
    "      y_predict_class = np.zeros(y_predict.shape)\n",
    "      y_predict_class[y_predict==i] = 1\n",
    "      \n",
    "      y_test_class = np.zeros(y_predict.shape)\n",
    "      y_test_class[preprocessed_dataset_dict[dataset_name, focus_name, \"validation\"][\"labels\"]==i] = 1\n",
    "      \n",
    "      results = calculate_scores(y_test_class, y_predict_class, average = \"binary\")\n",
    "\n",
    "      result_list.append([dataset_name, dataset_name, focus_name, trait_value] + results + [model_name, representation_name])\n",
    "\n",
    "df_results = pd.DataFrame(result_list, columns=[\"Train Dataset\", \"Test Dataset\", \"Trait\", \"Trait Value\", \"Accuracy\", \"Precision\", \"Recall\", \"F1-Score\", \"Model\", \"Representation\"])\n"
   ]
  },
  {
   "cell_type": "code",
   "execution_count": 27,
   "id": "13acec4e",
   "metadata": {},
   "outputs": [
    {
     "data": {
      "text/html": [
       "<div>\n",
       "<style scoped>\n",
       "    .dataframe tbody tr th:only-of-type {\n",
       "        vertical-align: middle;\n",
       "    }\n",
       "\n",
       "    .dataframe tbody tr th {\n",
       "        vertical-align: top;\n",
       "    }\n",
       "\n",
       "    .dataframe thead th {\n",
       "        text-align: right;\n",
       "    }\n",
       "</style>\n",
       "<table border=\"1\" class=\"dataframe\">\n",
       "  <thead>\n",
       "    <tr style=\"text-align: right;\">\n",
       "      <th></th>\n",
       "      <th>Train Dataset</th>\n",
       "      <th>Test Dataset</th>\n",
       "      <th>Trait</th>\n",
       "      <th>Trait Value</th>\n",
       "      <th>Accuracy</th>\n",
       "      <th>Precision</th>\n",
       "      <th>Recall</th>\n",
       "      <th>F1-Score</th>\n",
       "      <th>Model</th>\n",
       "      <th>Representation</th>\n",
       "    </tr>\n",
       "  </thead>\n",
       "  <tbody>\n",
       "    <tr>\n",
       "      <th>0</th>\n",
       "      <td>POWO</td>\n",
       "      <td>POWO</td>\n",
       "      <td>Growth Form</td>\n",
       "      <td>Growth Form</td>\n",
       "      <td>0.8840</td>\n",
       "      <td>0.795085</td>\n",
       "      <td>0.790811</td>\n",
       "      <td>0.792755</td>\n",
       "      <td>Logistic Regression</td>\n",
       "      <td>Bag of Words</td>\n",
       "    </tr>\n",
       "    <tr>\n",
       "      <th>1</th>\n",
       "      <td>POWO</td>\n",
       "      <td>POWO</td>\n",
       "      <td>Growth Form</td>\n",
       "      <td>herb</td>\n",
       "      <td>0.9176</td>\n",
       "      <td>0.943540</td>\n",
       "      <td>0.944565</td>\n",
       "      <td>0.944052</td>\n",
       "      <td>Logistic Regression</td>\n",
       "      <td>Bag of Words</td>\n",
       "    </tr>\n",
       "    <tr>\n",
       "      <th>2</th>\n",
       "      <td>POWO</td>\n",
       "      <td>POWO</td>\n",
       "      <td>Growth Form</td>\n",
       "      <td>shrub</td>\n",
       "      <td>0.8944</td>\n",
       "      <td>0.591716</td>\n",
       "      <td>0.613497</td>\n",
       "      <td>0.602410</td>\n",
       "      <td>Logistic Regression</td>\n",
       "      <td>Bag of Words</td>\n",
       "    </tr>\n",
       "    <tr>\n",
       "      <th>3</th>\n",
       "      <td>POWO</td>\n",
       "      <td>POWO</td>\n",
       "      <td>Growth Form</td>\n",
       "      <td>tree</td>\n",
       "      <td>0.9560</td>\n",
       "      <td>0.850000</td>\n",
       "      <td>0.814371</td>\n",
       "      <td>0.831804</td>\n",
       "      <td>Logistic Regression</td>\n",
       "      <td>Bag of Words</td>\n",
       "    </tr>\n",
       "    <tr>\n",
       "      <th>4</th>\n",
       "      <td>POWO</td>\n",
       "      <td>POWO</td>\n",
       "      <td>Life Form</td>\n",
       "      <td>Life Form</td>\n",
       "      <td>0.8664</td>\n",
       "      <td>0.828133</td>\n",
       "      <td>0.812781</td>\n",
       "      <td>0.819388</td>\n",
       "      <td>Logistic Regression</td>\n",
       "      <td>Bag of Words</td>\n",
       "    </tr>\n",
       "    <tr>\n",
       "      <th>5</th>\n",
       "      <td>POWO</td>\n",
       "      <td>POWO</td>\n",
       "      <td>Life Form</td>\n",
       "      <td>phanerophyte</td>\n",
       "      <td>0.9536</td>\n",
       "      <td>0.651685</td>\n",
       "      <td>0.682353</td>\n",
       "      <td>0.666667</td>\n",
       "      <td>Logistic Regression</td>\n",
       "      <td>Bag of Words</td>\n",
       "    </tr>\n",
       "    <tr>\n",
       "      <th>6</th>\n",
       "      <td>POWO</td>\n",
       "      <td>POWO</td>\n",
       "      <td>Life Form</td>\n",
       "      <td>chamaephyte</td>\n",
       "      <td>0.9496</td>\n",
       "      <td>0.806723</td>\n",
       "      <td>0.705882</td>\n",
       "      <td>0.752941</td>\n",
       "      <td>Logistic Regression</td>\n",
       "      <td>Bag of Words</td>\n",
       "    </tr>\n",
       "    <tr>\n",
       "      <th>7</th>\n",
       "      <td>POWO</td>\n",
       "      <td>POWO</td>\n",
       "      <td>Life Form</td>\n",
       "      <td>hemicryptophyte</td>\n",
       "      <td>0.9232</td>\n",
       "      <td>0.883549</td>\n",
       "      <td>0.935421</td>\n",
       "      <td>0.908745</td>\n",
       "      <td>Logistic Regression</td>\n",
       "      <td>Bag of Words</td>\n",
       "    </tr>\n",
       "    <tr>\n",
       "      <th>8</th>\n",
       "      <td>POWO</td>\n",
       "      <td>POWO</td>\n",
       "      <td>Life Form</td>\n",
       "      <td>cryptophyte</td>\n",
       "      <td>0.9656</td>\n",
       "      <td>0.919540</td>\n",
       "      <td>0.916031</td>\n",
       "      <td>0.917782</td>\n",
       "      <td>Logistic Regression</td>\n",
       "      <td>Bag of Words</td>\n",
       "    </tr>\n",
       "    <tr>\n",
       "      <th>9</th>\n",
       "      <td>POWO</td>\n",
       "      <td>POWO</td>\n",
       "      <td>Life Form</td>\n",
       "      <td>therophyte</td>\n",
       "      <td>0.9408</td>\n",
       "      <td>0.879167</td>\n",
       "      <td>0.824219</td>\n",
       "      <td>0.850806</td>\n",
       "      <td>Logistic Regression</td>\n",
       "      <td>Bag of Words</td>\n",
       "    </tr>\n",
       "    <tr>\n",
       "      <th>10</th>\n",
       "      <td>WIKI</td>\n",
       "      <td>WIKI</td>\n",
       "      <td>Growth Form</td>\n",
       "      <td>Growth Form</td>\n",
       "      <td>0.8192</td>\n",
       "      <td>0.788381</td>\n",
       "      <td>0.796776</td>\n",
       "      <td>0.792183</td>\n",
       "      <td>Logistic Regression</td>\n",
       "      <td>Bag of Words</td>\n",
       "    </tr>\n",
       "    <tr>\n",
       "      <th>11</th>\n",
       "      <td>WIKI</td>\n",
       "      <td>WIKI</td>\n",
       "      <td>Growth Form</td>\n",
       "      <td>herb</td>\n",
       "      <td>0.8744</td>\n",
       "      <td>0.888508</td>\n",
       "      <td>0.849180</td>\n",
       "      <td>0.868399</td>\n",
       "      <td>Logistic Regression</td>\n",
       "      <td>Bag of Words</td>\n",
       "    </tr>\n",
       "    <tr>\n",
       "      <th>12</th>\n",
       "      <td>WIKI</td>\n",
       "      <td>WIKI</td>\n",
       "      <td>Growth Form</td>\n",
       "      <td>shrub</td>\n",
       "      <td>0.8672</td>\n",
       "      <td>0.649805</td>\n",
       "      <td>0.687243</td>\n",
       "      <td>0.668000</td>\n",
       "      <td>Logistic Regression</td>\n",
       "      <td>Bag of Words</td>\n",
       "    </tr>\n",
       "    <tr>\n",
       "      <th>13</th>\n",
       "      <td>WIKI</td>\n",
       "      <td>WIKI</td>\n",
       "      <td>Growth Form</td>\n",
       "      <td>tree</td>\n",
       "      <td>0.8968</td>\n",
       "      <td>0.826829</td>\n",
       "      <td>0.853904</td>\n",
       "      <td>0.840149</td>\n",
       "      <td>Logistic Regression</td>\n",
       "      <td>Bag of Words</td>\n",
       "    </tr>\n",
       "    <tr>\n",
       "      <th>14</th>\n",
       "      <td>WIKI</td>\n",
       "      <td>WIKI</td>\n",
       "      <td>Life Form</td>\n",
       "      <td>Life Form</td>\n",
       "      <td>0.7352</td>\n",
       "      <td>0.623951</td>\n",
       "      <td>0.615575</td>\n",
       "      <td>0.619211</td>\n",
       "      <td>Logistic Regression</td>\n",
       "      <td>Bag of Words</td>\n",
       "    </tr>\n",
       "    <tr>\n",
       "      <th>15</th>\n",
       "      <td>WIKI</td>\n",
       "      <td>WIKI</td>\n",
       "      <td>Life Form</td>\n",
       "      <td>phanerophyte</td>\n",
       "      <td>0.9256</td>\n",
       "      <td>0.232143</td>\n",
       "      <td>0.206349</td>\n",
       "      <td>0.218487</td>\n",
       "      <td>Logistic Regression</td>\n",
       "      <td>Bag of Words</td>\n",
       "    </tr>\n",
       "    <tr>\n",
       "      <th>16</th>\n",
       "      <td>WIKI</td>\n",
       "      <td>WIKI</td>\n",
       "      <td>Life Form</td>\n",
       "      <td>chamaephyte</td>\n",
       "      <td>0.8776</td>\n",
       "      <td>0.699153</td>\n",
       "      <td>0.668016</td>\n",
       "      <td>0.683230</td>\n",
       "      <td>Logistic Regression</td>\n",
       "      <td>Bag of Words</td>\n",
       "    </tr>\n",
       "    <tr>\n",
       "      <th>17</th>\n",
       "      <td>WIKI</td>\n",
       "      <td>WIKI</td>\n",
       "      <td>Life Form</td>\n",
       "      <td>hemicryptophyte</td>\n",
       "      <td>0.8680</td>\n",
       "      <td>0.582090</td>\n",
       "      <td>0.590909</td>\n",
       "      <td>0.586466</td>\n",
       "      <td>Logistic Regression</td>\n",
       "      <td>Bag of Words</td>\n",
       "    </tr>\n",
       "    <tr>\n",
       "      <th>18</th>\n",
       "      <td>WIKI</td>\n",
       "      <td>WIKI</td>\n",
       "      <td>Life Form</td>\n",
       "      <td>cryptophyte</td>\n",
       "      <td>0.9064</td>\n",
       "      <td>0.858509</td>\n",
       "      <td>0.912602</td>\n",
       "      <td>0.884729</td>\n",
       "      <td>Logistic Regression</td>\n",
       "      <td>Bag of Words</td>\n",
       "    </tr>\n",
       "    <tr>\n",
       "      <th>19</th>\n",
       "      <td>WIKI</td>\n",
       "      <td>WIKI</td>\n",
       "      <td>Life Form</td>\n",
       "      <td>therophyte</td>\n",
       "      <td>0.8928</td>\n",
       "      <td>0.747863</td>\n",
       "      <td>0.700000</td>\n",
       "      <td>0.723140</td>\n",
       "      <td>Logistic Regression</td>\n",
       "      <td>Bag of Words</td>\n",
       "    </tr>\n",
       "  </tbody>\n",
       "</table>\n",
       "</div>"
      ],
      "text/plain": [
       "   Train Dataset Test Dataset        Trait      Trait Value  Accuracy  \\\n",
       "0           POWO         POWO  Growth Form      Growth Form    0.8840   \n",
       "1           POWO         POWO  Growth Form             herb    0.9176   \n",
       "2           POWO         POWO  Growth Form            shrub    0.8944   \n",
       "3           POWO         POWO  Growth Form             tree    0.9560   \n",
       "4           POWO         POWO    Life Form        Life Form    0.8664   \n",
       "5           POWO         POWO    Life Form     phanerophyte    0.9536   \n",
       "6           POWO         POWO    Life Form      chamaephyte    0.9496   \n",
       "7           POWO         POWO    Life Form  hemicryptophyte    0.9232   \n",
       "8           POWO         POWO    Life Form      cryptophyte    0.9656   \n",
       "9           POWO         POWO    Life Form       therophyte    0.9408   \n",
       "10          WIKI         WIKI  Growth Form      Growth Form    0.8192   \n",
       "11          WIKI         WIKI  Growth Form             herb    0.8744   \n",
       "12          WIKI         WIKI  Growth Form            shrub    0.8672   \n",
       "13          WIKI         WIKI  Growth Form             tree    0.8968   \n",
       "14          WIKI         WIKI    Life Form        Life Form    0.7352   \n",
       "15          WIKI         WIKI    Life Form     phanerophyte    0.9256   \n",
       "16          WIKI         WIKI    Life Form      chamaephyte    0.8776   \n",
       "17          WIKI         WIKI    Life Form  hemicryptophyte    0.8680   \n",
       "18          WIKI         WIKI    Life Form      cryptophyte    0.9064   \n",
       "19          WIKI         WIKI    Life Form       therophyte    0.8928   \n",
       "\n",
       "    Precision    Recall  F1-Score                Model Representation  \n",
       "0    0.795085  0.790811  0.792755  Logistic Regression   Bag of Words  \n",
       "1    0.943540  0.944565  0.944052  Logistic Regression   Bag of Words  \n",
       "2    0.591716  0.613497  0.602410  Logistic Regression   Bag of Words  \n",
       "3    0.850000  0.814371  0.831804  Logistic Regression   Bag of Words  \n",
       "4    0.828133  0.812781  0.819388  Logistic Regression   Bag of Words  \n",
       "5    0.651685  0.682353  0.666667  Logistic Regression   Bag of Words  \n",
       "6    0.806723  0.705882  0.752941  Logistic Regression   Bag of Words  \n",
       "7    0.883549  0.935421  0.908745  Logistic Regression   Bag of Words  \n",
       "8    0.919540  0.916031  0.917782  Logistic Regression   Bag of Words  \n",
       "9    0.879167  0.824219  0.850806  Logistic Regression   Bag of Words  \n",
       "10   0.788381  0.796776  0.792183  Logistic Regression   Bag of Words  \n",
       "11   0.888508  0.849180  0.868399  Logistic Regression   Bag of Words  \n",
       "12   0.649805  0.687243  0.668000  Logistic Regression   Bag of Words  \n",
       "13   0.826829  0.853904  0.840149  Logistic Regression   Bag of Words  \n",
       "14   0.623951  0.615575  0.619211  Logistic Regression   Bag of Words  \n",
       "15   0.232143  0.206349  0.218487  Logistic Regression   Bag of Words  \n",
       "16   0.699153  0.668016  0.683230  Logistic Regression   Bag of Words  \n",
       "17   0.582090  0.590909  0.586466  Logistic Regression   Bag of Words  \n",
       "18   0.858509  0.912602  0.884729  Logistic Regression   Bag of Words  \n",
       "19   0.747863  0.700000  0.723140  Logistic Regression   Bag of Words  "
      ]
     },
     "execution_count": 27,
     "metadata": {},
     "output_type": "execute_result"
    }
   ],
   "source": [
    "df_results"
   ]
  },
  {
   "attachments": {},
   "cell_type": "markdown",
   "id": "5e3595ca",
   "metadata": {},
   "source": [
    "### Save Results"
   ]
  },
  {
   "cell_type": "code",
   "execution_count": 28,
   "id": "faba5a12",
   "metadata": {
    "ExecuteTime": {
     "end_time": "2022-10-17T09:27:15.106689Z",
     "start_time": "2022-10-17T09:27:15.094344Z"
    }
   },
   "outputs": [],
   "source": [
    "df_results.to_excel(\"Results//LR_Bow_Results.xlsx\", index=False)"
   ]
  },
  {
   "cell_type": "code",
   "execution_count": null,
   "id": "99455d73",
   "metadata": {},
   "outputs": [],
   "source": []
  }
 ],
 "metadata": {
  "kernelspec": {
   "display_name": "Python 3 (ipykernel)",
   "language": "python",
   "name": "python3"
  },
  "language_info": {
   "codemirror_mode": {
    "name": "ipython",
    "version": 3
   },
   "file_extension": ".py",
   "mimetype": "text/x-python",
   "name": "python",
   "nbconvert_exporter": "python",
   "pygments_lexer": "ipython3",
   "version": "3.9.13"
  },
  "toc": {
   "base_numbering": 1,
   "nav_menu": {},
   "number_sections": true,
   "sideBar": true,
   "skip_h1_title": false,
   "title_cell": "Table of Contents",
   "title_sidebar": "Contents",
   "toc_cell": false,
   "toc_position": {
    "height": "calc(100% - 180px)",
    "left": "10px",
    "top": "150px",
    "width": "341.333px"
   },
   "toc_section_display": true,
   "toc_window_display": true
  },
  "varInspector": {
   "cols": {
    "lenName": 16,
    "lenType": 16,
    "lenVar": 40
   },
   "kernels_config": {
    "python": {
     "delete_cmd_postfix": "",
     "delete_cmd_prefix": "del ",
     "library": "var_list.py",
     "varRefreshCmd": "print(var_dic_list())"
    },
    "r": {
     "delete_cmd_postfix": ") ",
     "delete_cmd_prefix": "rm(",
     "library": "var_list.r",
     "varRefreshCmd": "cat(var_dic_list()) "
    }
   },
   "types_to_exclude": [
    "module",
    "function",
    "builtin_function_or_method",
    "instance",
    "_Feature"
   ],
   "window_display": false
  }
 },
 "nbformat": 4,
 "nbformat_minor": 5
}
