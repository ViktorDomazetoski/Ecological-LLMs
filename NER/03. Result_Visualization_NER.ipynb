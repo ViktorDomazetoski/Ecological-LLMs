{
 "cells": [
  {
   "cell_type": "markdown",
   "metadata": {},
   "source": [
    "# Libraries & Functions"
   ]
  },
  {
   "cell_type": "code",
   "execution_count": 1,
   "metadata": {},
   "outputs": [],
   "source": [
    "'''Math & Data Libraries'''\n",
    "import numpy as np\n",
    "import pandas as pd"
   ]
  },
  {
   "cell_type": "code",
   "execution_count": 2,
   "metadata": {},
   "outputs": [],
   "source": [
    "'''Visualization Libraries'''\n",
    "import matplotlib.pyplot as plt\n",
    "import seaborn as sns\n",
    "from PIL import Image\n",
    "\n",
    "sns.set_style(\"whitegrid\", {\"grid.color\": \"0.5\", \"axes.edgecolor\": \"0.2\"})\n",
    "color_palette = [\"#FF8853\", \"#FFE174\", \"#007597\", \"#C1C36D\", \"#00A697\", \"#BC97E0\", \"#ffc0bf\"] #[ \"#007597\", \"#FF8853\", \"#C1C36D\", \"#FFE174\",\"#00A697\", \"#BC97E0\", \"#ffc0bf\"]\n",
    "sns.set_palette(sns.color_palette(color_palette))"
   ]
  },
  {
   "cell_type": "code",
   "execution_count": 4,
   "metadata": {},
   "outputs": [],
   "source": [
    "def show_values_on_bars(axs, size=14):\n",
    "    def _show_on_single_plot(ax, size=size):        \n",
    "        for p in ax.patches:\n",
    "            _x = p.get_x() + p.get_width() / 2\n",
    "            _y = max(p.get_y() + p.get_height() - 0.15, 0.1)\n",
    "            value = '{:.2f}'.format(p.get_height())\n",
    "            # print(_y, p.get_facecolor())\n",
    "            blue_col = p.get_facecolor()[2]\n",
    "            green_col = p.get_facecolor()[1]\n",
    "#             if(p.get_height()<0.2):\n",
    "#                 continue\n",
    "            if(green_col>0.5):# or green_col<0.4):\n",
    "                ax.text(_x, _y, value, ha=\"center\", size=size) \n",
    "            else:\n",
    "                ax.text(_x, _y, value, ha=\"center\", size=size, color=\"white\")\n",
    "    if isinstance(axs, np.ndarray):\n",
    "        for idx, ax in np.ndenumerate(axs):\n",
    "            _show_on_single_plot(ax)\n",
    "    else:\n",
    "        _show_on_single_plot(axs)"
   ]
  },
  {
   "cell_type": "markdown",
   "metadata": {},
   "source": [
    "# Result Data"
   ]
  },
  {
   "cell_type": "markdown",
   "metadata": {},
   "source": [
    "## Group Results"
   ]
  },
  {
   "cell_type": "code",
   "execution_count": 20,
   "metadata": {},
   "outputs": [],
   "source": [
    "df_results_full = pd.read_excel(\"Results/NER_Results.xlsx\")"
   ]
  },
  {
   "cell_type": "code",
   "execution_count": 21,
   "metadata": {},
   "outputs": [
    {
     "data": {
      "text/html": [
       "<div>\n",
       "<style scoped>\n",
       "    .dataframe tbody tr th:only-of-type {\n",
       "        vertical-align: middle;\n",
       "    }\n",
       "\n",
       "    .dataframe tbody tr th {\n",
       "        vertical-align: top;\n",
       "    }\n",
       "\n",
       "    .dataframe thead th {\n",
       "        text-align: right;\n",
       "    }\n",
       "</style>\n",
       "<table border=\"1\" class=\"dataframe\">\n",
       "  <thead>\n",
       "    <tr style=\"text-align: right;\">\n",
       "      <th></th>\n",
       "      <th>Dataset</th>\n",
       "      <th>Model</th>\n",
       "      <th>Accuracy</th>\n",
       "      <th>Precision</th>\n",
       "      <th>Recall</th>\n",
       "      <th>F1-Score</th>\n",
       "    </tr>\n",
       "  </thead>\n",
       "  <tbody>\n",
       "    <tr>\n",
       "      <th>0</th>\n",
       "      <td>copious</td>\n",
       "      <td>EcoBERT</td>\n",
       "      <td>0.974745</td>\n",
       "      <td>0.669565</td>\n",
       "      <td>0.614362</td>\n",
       "      <td>0.640777</td>\n",
       "    </tr>\n",
       "    <tr>\n",
       "      <th>1</th>\n",
       "      <td>S800</td>\n",
       "      <td>EcoBERT</td>\n",
       "      <td>0.969819</td>\n",
       "      <td>0.612903</td>\n",
       "      <td>0.527778</td>\n",
       "      <td>0.567164</td>\n",
       "    </tr>\n",
       "    <tr>\n",
       "      <th>2</th>\n",
       "      <td>copious</td>\n",
       "      <td>DistilBERT</td>\n",
       "      <td>0.975232</td>\n",
       "      <td>0.656522</td>\n",
       "      <td>0.605615</td>\n",
       "      <td>0.630042</td>\n",
       "    </tr>\n",
       "    <tr>\n",
       "      <th>3</th>\n",
       "      <td>S800</td>\n",
       "      <td>DistilBERT</td>\n",
       "      <td>0.968896</td>\n",
       "      <td>0.612903</td>\n",
       "      <td>0.532927</td>\n",
       "      <td>0.570124</td>\n",
       "    </tr>\n",
       "    <tr>\n",
       "      <th>4</th>\n",
       "      <td>copious</td>\n",
       "      <td>DeBERTa_v3</td>\n",
       "      <td>0.984180</td>\n",
       "      <td>0.833333</td>\n",
       "      <td>0.786736</td>\n",
       "      <td>0.809365</td>\n",
       "    </tr>\n",
       "    <tr>\n",
       "      <th>5</th>\n",
       "      <td>S800</td>\n",
       "      <td>DeBERTa_v3</td>\n",
       "      <td>0.978311</td>\n",
       "      <td>0.789916</td>\n",
       "      <td>0.673031</td>\n",
       "      <td>0.726804</td>\n",
       "    </tr>\n",
       "    <tr>\n",
       "      <th>6</th>\n",
       "      <td>copious</td>\n",
       "      <td>ELECTRA</td>\n",
       "      <td>0.981432</td>\n",
       "      <td>0.768116</td>\n",
       "      <td>0.736111</td>\n",
       "      <td>0.751773</td>\n",
       "    </tr>\n",
       "    <tr>\n",
       "      <th>7</th>\n",
       "      <td>S800</td>\n",
       "      <td>ELECTRA</td>\n",
       "      <td>0.975795</td>\n",
       "      <td>0.718093</td>\n",
       "      <td>0.614646</td>\n",
       "      <td>0.662354</td>\n",
       "    </tr>\n",
       "  </tbody>\n",
       "</table>\n",
       "</div>"
      ],
      "text/plain": [
       "   Dataset       Model  Accuracy  Precision    Recall  F1-Score\n",
       "0  copious     EcoBERT  0.974745   0.669565  0.614362  0.640777\n",
       "1     S800     EcoBERT  0.969819   0.612903  0.527778  0.567164\n",
       "2  copious  DistilBERT  0.975232   0.656522  0.605615  0.630042\n",
       "3     S800  DistilBERT  0.968896   0.612903  0.532927  0.570124\n",
       "4  copious  DeBERTa_v3  0.984180   0.833333  0.786736  0.809365\n",
       "5     S800  DeBERTa_v3  0.978311   0.789916  0.673031  0.726804\n",
       "6  copious     ELECTRA  0.981432   0.768116  0.736111  0.751773\n",
       "7     S800     ELECTRA  0.975795   0.718093  0.614646  0.662354"
      ]
     },
     "execution_count": 21,
     "metadata": {},
     "output_type": "execute_result"
    }
   ],
   "source": [
    "df_results_full"
   ]
  },
  {
   "cell_type": "markdown",
   "metadata": {},
   "source": [
    "# Model Comparison"
   ]
  },
  {
   "cell_type": "code",
   "execution_count": 22,
   "metadata": {},
   "outputs": [
    {
     "name": "stderr",
     "output_type": "stream",
     "text": [
      "C:\\Users\\Admin\\AppData\\Local\\Temp\\ipykernel_103608\\126085684.py:7: UserWarning: FixedFormatter should only be used together with FixedLocator\n",
      "  axes.set_yticklabels(np.round(np.arange(0, 41, 5), 1), size=18)\n"
     ]
    },
    {
     "data": {
      "image/png": "[encoded data removed]",
      "text/plain": [
       "<Figure size 1200x500 with 1 Axes>"
      ]
     },
     "metadata": {},
     "output_type": "display_data"
    }
   ],
   "source": [
    "for metric in [\"F1-Score\"]:\n",
    "    df_subset = df_results_full\n",
    "    fig, axes  = plt.subplots(figsize=(12,5), nrows = 1)\n",
    "    sns.barplot(data=df_subset, x=\"Dataset\", y=metric, hue = \"Model\", palette = color_palette)\n",
    "    show_values_on_bars(axes)\n",
    "    axes.set_xticklabels(axes.get_xticklabels(), size=18, rotation=\"horizontal\")\n",
    "    axes.set_yticklabels(np.round(np.arange(0, 41, 5), 1), size=18)\n",
    "    plt.xlabel(\"Dataset\", size = 18)\n",
    "    plt.ylabel(metric, size=18)\n",
    "    plt.ylim(0, 1)\n",
    "    plt.tight_layout()\n",
    "    plt.legend(loc = \"lower right\", fontsize = 14, fancybox = True, shadow = True)\n",
    "    plt.show()"
   ]
  }
 ],
 "metadata": {
  "kernelspec": {
   "display_name": "base",
   "language": "python",
   "name": "python3"
  },
  "language_info": {
   "codemirror_mode": {
    "name": "ipython",
    "version": 3
   },
   "file_extension": ".py",
   "mimetype": "text/x-python",
   "name": "python",
   "nbconvert_exporter": "python",
   "pygments_lexer": "ipython3",
   "version": "3.9.13"
  },
  "orig_nbformat": 4
 },
 "nbformat": 4,
 "nbformat_minor": 2
}
