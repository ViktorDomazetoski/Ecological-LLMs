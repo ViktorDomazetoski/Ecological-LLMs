{
 "cells": [
  {
   "attachments": {},
   "cell_type": "markdown",
   "id": "3d76bec6",
   "metadata": {},
   "source": [
    "**Notebook to preprocess the Spanish and German Wikipedia descriptions.**\n",
    "\n",
    "This is done by removing unrelated information and processing the text using NLP using the following pipeline:\n",
    "* Remove unnecessary information such as description categories that are not relevant to the task\n",
    "* Remove artifacts from text\n",
    "* Preprocess by lowercasing and tokenizing, optionally removing numbers, punctuation and stopwords"
   ]
  },
  {
   "attachments": {},
   "cell_type": "markdown",
   "id": "bbb90614",
   "metadata": {},
   "source": [
    "# Libraries & Functions"
   ]
  },
  {
   "cell_type": "code",
   "execution_count": 1,
   "id": "d7f10490",
   "metadata": {},
   "outputs": [],
   "source": [
    "'''Math & Data Libraries'''\n",
    "import numpy as np\n",
    "import pandas as pd"
   ]
  },
  {
   "cell_type": "code",
   "execution_count": 2,
   "id": "c1cc1b6e",
   "metadata": {
    "ExecuteTime": {
     "end_time": "2022-07-11T19:09:05.207676Z",
     "start_time": "2022-07-11T19:09:05.193394Z"
    }
   },
   "outputs": [],
   "source": [
    "''' Miscellaneous Libraries'''\n",
    "from tqdm import tqdm"
   ]
  },
  {
   "cell_type": "code",
   "execution_count": 3,
   "id": "a25f507a",
   "metadata": {},
   "outputs": [
    {
     "name": "stderr",
     "output_type": "stream",
     "text": [
      "[nltk_data] Downloading package punkt to\n",
      "[nltk_data]     C:\\Users\\Admin\\AppData\\Roaming\\nltk_data...\n",
      "[nltk_data]   Package punkt is already up-to-date!\n",
      "[nltk_data] Downloading package stopwords to\n",
      "[nltk_data]     C:\\Users\\Admin\\AppData\\Roaming\\nltk_data...\n",
      "[nltk_data]   Package stopwords is already up-to-date!\n"
     ]
    },
    {
     "data": {
      "text/plain": [
       "True"
      ]
     },
     "execution_count": 3,
     "metadata": {},
     "output_type": "execute_result"
    }
   ],
   "source": [
    "'''NLP Libraries'''\n",
    "import nltk\n",
    "from nltk.corpus import stopwords\n",
    "import string\n",
    "\n",
    "import unidecode\n",
    "import unicodedata\n",
    "\n",
    "nltk.download('punkt')\n",
    "nltk.download('stopwords')"
   ]
  },
  {
   "attachments": {},
   "cell_type": "markdown",
   "id": "04808ce7",
   "metadata": {},
   "source": [
    "## NLP Functions"
   ]
  },
  {
   "cell_type": "code",
   "execution_count": 4,
   "id": "6a823592",
   "metadata": {},
   "outputs": [],
   "source": [
    "def remove_artifacts(text):\n",
    "    \"\"\"\n",
    "    Remove artifacts from text. \n",
    "    ---\n",
    "    Parameters\n",
    "    ----------\n",
    "    text : str\n",
    "        text from which artifacts should be removed\n",
    "\n",
    "    Returns\n",
    "    -------\n",
    "    text_removed_artifacts : str\n",
    "        text with removed artifacts\n",
    "    \"\"\"\n",
    "    return str(text).replace(\"nbsp\", \"\").replace(\"<p>\", \"\").replace(\"</p>\", \"\").replace(\"<i>\", \"\").replace(\"</i>\", \"\").replace(\"<b>\", \"\").replace(\"</b>\", \"\").replace(\"&\",\"\").replace(\"_x000D_\", \"\").replace(\"\\\"\", \"\").replace(\"\\'\", \"\").replace(\"<em>\", \"\").replace(\"</em>\", \"\").replace(\"<br>\", \"\").replace(\"</br>\", \"\")\n",
    "\n",
    "def preprocess_description(text, remove_numbers = True, remove_stopwords = False):\n",
    "    \"\"\"\n",
    "    Preprocess text with the following steps:\n",
    "        1. Lowercasing\n",
    "        2. Removal of digits (if remove_numbers = True)\n",
    "        3. Removal of punctuation (if remove_numbers = True)\n",
    "        4. Removal of stopwords (if remove_stopwords = True) \n",
    "        5. Tokenization and join to fix issues with blank space\n",
    "    ---\n",
    "    Parameters\n",
    "    ----------\n",
    "    text : str\n",
    "        text from which artifacts should be removed\n",
    "    remove_numbers : boolean\n",
    "        whether to remove or keep digits in the text\n",
    "    remove_stopwords : boolean\n",
    "        whether to remove or stopwords in the text\n",
    "\n",
    "    Returns\n",
    "    -------\n",
    "    preprocessed_text : str\n",
    "        preprocessed_text\n",
    "    \"\"\"\n",
    "    text = text.lower()\n",
    "    if remove_numbers:\n",
    "        text = text.translate(str.maketrans('', '', string.digits))\n",
    "        text = text.translate(str.maketrans('', '', string.punctuation))\n",
    "       \n",
    "    tokens = nltk.word_tokenize(text)\n",
    "    text = \" \".join(tokens)\n",
    "\n",
    "    if remove_numbers:\n",
    "        tokens_long = []\n",
    "        for token in tokens:\n",
    "            if len(token)>1:\n",
    "                tokens_long.append(token)\n",
    "        text = ' '.join(tokens_long)\n",
    "\n",
    "    if remove_stopwords:\n",
    "        stopwords_ = stopwords.words('english')\n",
    "        tokens = nltk.word_tokenize(text)\n",
    "        tokens_stop_words = []\n",
    "        for token in tokens:\n",
    "            if token not in stopwords_:\n",
    "                tokens_stop_words.append(token)\n",
    "        text = ' '.join(tokens_stop_words)\n",
    "\n",
    "    return text"
   ]
  },
  {
   "attachments": {},
   "cell_type": "markdown",
   "id": "8b5c94e3",
   "metadata": {},
   "source": [
    "# Input Data"
   ]
  },
  {
   "attachments": {},
   "cell_type": "markdown",
   "id": "1d9c13a0",
   "metadata": {},
   "source": [
    "## Spanish Wikipedia"
   ]
  },
  {
   "cell_type": "code",
   "execution_count": 6,
   "id": "3ab989d9",
   "metadata": {},
   "outputs": [],
   "source": [
    "df_WIKI_ES = pd.read_excel(\"..//Datasets//Initial Databases//WIKI_orig_descriptions_ESP.xlsx\")"
   ]
  },
  {
   "cell_type": "code",
   "execution_count": 7,
   "id": "8e4c0009",
   "metadata": {},
   "outputs": [
    {
     "data": {
      "text/html": [
       "<div>\n",
       "<style scoped>\n",
       "    .dataframe tbody tr th:only-of-type {\n",
       "        vertical-align: middle;\n",
       "    }\n",
       "\n",
       "    .dataframe tbody tr th {\n",
       "        vertical-align: top;\n",
       "    }\n",
       "\n",
       "    .dataframe thead th {\n",
       "        text-align: right;\n",
       "    }\n",
       "</style>\n",
       "<table border=\"1\" class=\"dataframe\">\n",
       "  <thead>\n",
       "    <tr style=\"text-align: right;\">\n",
       "      <th></th>\n",
       "      <th>WIKI_id</th>\n",
       "      <th>description</th>\n",
       "      <th>source</th>\n",
       "      <th>name</th>\n",
       "      <th>Date Retrieved</th>\n",
       "      <th>Binomial Name</th>\n",
       "    </tr>\n",
       "  </thead>\n",
       "  <tbody>\n",
       "    <tr>\n",
       "      <th>0</th>\n",
       "      <td>Summary</td>\n",
       "      <td>Salsola oppositifolia o salao borde es una pla...</td>\n",
       "      <td>1</td>\n",
       "      <td>Salsola oppositifolia</td>\n",
       "      <td>2023-05-09</td>\n",
       "      <td>Salsola oppositifolia</td>\n",
       "    </tr>\n",
       "    <tr>\n",
       "      <th>1</th>\n",
       "      <td>HÃ¡bitat</td>\n",
       "      <td>Es propia de zonas costeras. Tolerante a la sa...</td>\n",
       "      <td>2</td>\n",
       "      <td>Salsola oppositifolia</td>\n",
       "      <td>2023-05-09</td>\n",
       "      <td>Salsola oppositifolia</td>\n",
       "    </tr>\n",
       "    <tr>\n",
       "      <th>2</th>\n",
       "      <td>DescripciÃ³n</td>\n",
       "      <td>Se trata de un arbusto de hasta 2 m de altura,...</td>\n",
       "      <td>3</td>\n",
       "      <td>Salsola oppositifolia</td>\n",
       "      <td>2023-05-09</td>\n",
       "      <td>Salsola oppositifolia</td>\n",
       "    </tr>\n",
       "    <tr>\n",
       "      <th>3</th>\n",
       "      <td>TaxonomÃ­a</td>\n",
       "      <td>Salsola oppositifolia fue descrita por RenÃ© L...</td>\n",
       "      <td>4</td>\n",
       "      <td>Salsola oppositifolia</td>\n",
       "      <td>2023-05-09</td>\n",
       "      <td>Salsola oppositifolia</td>\n",
       "    </tr>\n",
       "    <tr>\n",
       "      <th>4</th>\n",
       "      <td>Nombres comunes</td>\n",
       "      <td>Castellano: barrilla, barrilla zagua, boja bar...</td>\n",
       "      <td>5</td>\n",
       "      <td>Salsola oppositifolia</td>\n",
       "      <td>2023-05-09</td>\n",
       "      <td>Salsola oppositifolia</td>\n",
       "    </tr>\n",
       "    <tr>\n",
       "      <th>...</th>\n",
       "      <td>...</td>\n",
       "      <td>...</td>\n",
       "      <td>...</td>\n",
       "      <td>...</td>\n",
       "      <td>...</td>\n",
       "      <td>...</td>\n",
       "    </tr>\n",
       "    <tr>\n",
       "      <th>24526</th>\n",
       "      <td>Summary</td>\n",
       "      <td>Dierama pulcherrimum, es una especie de planta...</td>\n",
       "      <td>24527</td>\n",
       "      <td>Dierama pulcherrimum</td>\n",
       "      <td>2023-05-09</td>\n",
       "      <td>Dierama pulcherrimum</td>\n",
       "    </tr>\n",
       "    <tr>\n",
       "      <th>24527</th>\n",
       "      <td>DescripciÃ³n</td>\n",
       "      <td>Se caracteriza por sus flores laxas de color g...</td>\n",
       "      <td>24528</td>\n",
       "      <td>Dierama pulcherrimum</td>\n",
       "      <td>2023-05-09</td>\n",
       "      <td>Dierama pulcherrimum</td>\n",
       "    </tr>\n",
       "    <tr>\n",
       "      <th>24528</th>\n",
       "      <td>TaxonomÃ­a</td>\n",
       "      <td>Dierama pulcherrimum fue descrita por (Hook.f....</td>\n",
       "      <td>24529</td>\n",
       "      <td>Dierama pulcherrimum</td>\n",
       "      <td>2023-05-09</td>\n",
       "      <td>Dierama pulcherrimum</td>\n",
       "    </tr>\n",
       "    <tr>\n",
       "      <th>24529</th>\n",
       "      <td>Referencias</td>\n",
       "      <td>NaN</td>\n",
       "      <td>24530</td>\n",
       "      <td>Dierama pulcherrimum</td>\n",
       "      <td>2023-05-09</td>\n",
       "      <td>Dierama pulcherrimum</td>\n",
       "    </tr>\n",
       "    <tr>\n",
       "      <th>24530</th>\n",
       "      <td>Enlaces externos</td>\n",
       "      <td>Wikispecies tiene un artÃ­culo sobre Dierama ...</td>\n",
       "      <td>24531</td>\n",
       "      <td>Dierama pulcherrimum</td>\n",
       "      <td>2023-05-09</td>\n",
       "      <td>Dierama pulcherrimum</td>\n",
       "    </tr>\n",
       "  </tbody>\n",
       "</table>\n",
       "<p>24531 rows × 6 columns</p>\n",
       "</div>"
      ],
      "text/plain": [
       "                WIKI_id                                        description  \\\n",
       "0               Summary  Salsola oppositifolia o salao borde es una pla...   \n",
       "1              HÃ¡bitat  Es propia de zonas costeras. Tolerante a la sa...   \n",
       "2          DescripciÃ³n  Se trata de un arbusto de hasta 2 m de altura,...   \n",
       "3            TaxonomÃ­a  Salsola oppositifolia fue descrita por RenÃ© L...   \n",
       "4       Nombres comunes  Castellano: barrilla, barrilla zagua, boja bar...   \n",
       "...                 ...                                                ...   \n",
       "24526           Summary  Dierama pulcherrimum, es una especie de planta...   \n",
       "24527      DescripciÃ³n  Se caracteriza por sus flores laxas de color g...   \n",
       "24528        TaxonomÃ­a  Dierama pulcherrimum fue descrita por (Hook.f....   \n",
       "24529       Referencias                                                NaN   \n",
       "24530  Enlaces externos   Wikispecies tiene un artÃ­culo sobre Dierama ...   \n",
       "\n",
       "       source                   name Date Retrieved          Binomial Name  \n",
       "0           1  Salsola oppositifolia     2023-05-09  Salsola oppositifolia  \n",
       "1           2  Salsola oppositifolia     2023-05-09  Salsola oppositifolia  \n",
       "2           3  Salsola oppositifolia     2023-05-09  Salsola oppositifolia  \n",
       "3           4  Salsola oppositifolia     2023-05-09  Salsola oppositifolia  \n",
       "4           5  Salsola oppositifolia     2023-05-09  Salsola oppositifolia  \n",
       "...       ...                    ...            ...                    ...  \n",
       "24526   24527   Dierama pulcherrimum     2023-05-09   Dierama pulcherrimum  \n",
       "24527   24528   Dierama pulcherrimum     2023-05-09   Dierama pulcherrimum  \n",
       "24528   24529   Dierama pulcherrimum     2023-05-09   Dierama pulcherrimum  \n",
       "24529   24530   Dierama pulcherrimum     2023-05-09   Dierama pulcherrimum  \n",
       "24530   24531   Dierama pulcherrimum     2023-05-09   Dierama pulcherrimum  \n",
       "\n",
       "[24531 rows x 6 columns]"
      ]
     },
     "execution_count": 7,
     "metadata": {},
     "output_type": "execute_result"
    }
   ],
   "source": [
    "df_WIKI_ES"
   ]
  },
  {
   "cell_type": "code",
   "execution_count": 8,
   "id": "b388aae2",
   "metadata": {},
   "outputs": [
    {
     "name": "stdout",
     "output_type": "stream",
     "text": [
      "Initial Number of Categories: 1076\n"
     ]
    }
   ],
   "source": [
    "print(\"Initial Number of Categories:\", df_WIKI_ES[\"WIKI_id\"].nunique())"
   ]
  },
  {
   "cell_type": "markdown",
   "id": "c1a35616",
   "metadata": {},
   "source": [
    "## German Wikipedia"
   ]
  },
  {
   "cell_type": "code",
   "execution_count": 9,
   "id": "0076c900",
   "metadata": {},
   "outputs": [],
   "source": [
    "df_WIKI_DE = pd.read_excel(\"..//Datasets//Initial Databases//WIKI_orig_descriptions_DE.xlsx\")"
   ]
  },
  {
   "cell_type": "code",
   "execution_count": 10,
   "id": "573b7db7",
   "metadata": {},
   "outputs": [
    {
     "data": {
      "text/html": [
       "<div>\n",
       "<style scoped>\n",
       "    .dataframe tbody tr th:only-of-type {\n",
       "        vertical-align: middle;\n",
       "    }\n",
       "\n",
       "    .dataframe tbody tr th {\n",
       "        vertical-align: top;\n",
       "    }\n",
       "\n",
       "    .dataframe thead th {\n",
       "        text-align: right;\n",
       "    }\n",
       "</style>\n",
       "<table border=\"1\" class=\"dataframe\">\n",
       "  <thead>\n",
       "    <tr style=\"text-align: right;\">\n",
       "      <th></th>\n",
       "      <th>WIKI_id</th>\n",
       "      <th>description</th>\n",
       "      <th>source</th>\n",
       "      <th>name</th>\n",
       "      <th>Date Retrieved</th>\n",
       "      <th>Binomial Name</th>\n",
       "    </tr>\n",
       "  </thead>\n",
       "  <tbody>\n",
       "    <tr>\n",
       "      <th>0</th>\n",
       "      <td>Summary</td>\n",
       "      <td>Macadamia integrifolia ist eine Pflanzenart au...</td>\n",
       "      <td>NaN</td>\n",
       "      <td>Macadamia integrifolia</td>\n",
       "      <td>2023-08-09</td>\n",
       "      <td>Macadamia integrifolia</td>\n",
       "    </tr>\n",
       "    <tr>\n",
       "      <th>1</th>\n",
       "      <td>Beschreibung</td>\n",
       "      <td>Macadamia integrifolia wÃ¤chst als Baum und er...</td>\n",
       "      <td>NaN</td>\n",
       "      <td>Macadamia integrifolia</td>\n",
       "      <td>2023-08-09</td>\n",
       "      <td>Macadamia integrifolia</td>\n",
       "    </tr>\n",
       "    <tr>\n",
       "      <th>2</th>\n",
       "      <td>Verbreitung</td>\n",
       "      <td>Macadamia integrifolia ist in einem kleinen Ge...</td>\n",
       "      <td>NaN</td>\n",
       "      <td>Macadamia integrifolia</td>\n",
       "      <td>2023-08-09</td>\n",
       "      <td>Macadamia integrifolia</td>\n",
       "    </tr>\n",
       "    <tr>\n",
       "      <th>3</th>\n",
       "      <td>Verwendung</td>\n",
       "      <td>Die Samen von Macadamia integrifolia sind essb...</td>\n",
       "      <td>NaN</td>\n",
       "      <td>Macadamia integrifolia</td>\n",
       "      <td>2023-08-09</td>\n",
       "      <td>Macadamia integrifolia</td>\n",
       "    </tr>\n",
       "    <tr>\n",
       "      <th>4</th>\n",
       "      <td>Einzelnachweise</td>\n",
       "      <td>\\n\\n== Weblinks ==</td>\n",
       "      <td>NaN</td>\n",
       "      <td>Macadamia integrifolia</td>\n",
       "      <td>2023-08-09</td>\n",
       "      <td>Macadamia integrifolia</td>\n",
       "    </tr>\n",
       "    <tr>\n",
       "      <th>...</th>\n",
       "      <td>...</td>\n",
       "      <td>...</td>\n",
       "      <td>...</td>\n",
       "      <td>...</td>\n",
       "      <td>...</td>\n",
       "      <td>...</td>\n",
       "    </tr>\n",
       "    <tr>\n",
       "      <th>20270</th>\n",
       "      <td>Beschreibung</td>\n",
       "      <td>Der Kaukasische Klee ist eine ausdauernde, kra...</td>\n",
       "      <td>NaN</td>\n",
       "      <td>Trifolium ambiguum</td>\n",
       "      <td>2023-08-09</td>\n",
       "      <td>Trifolium ambiguum</td>\n",
       "    </tr>\n",
       "    <tr>\n",
       "      <th>20271</th>\n",
       "      <td>Verbreitung</td>\n",
       "      <td>Kaukasischer Klee ist auf GerÃ¶llfeldern, an W...</td>\n",
       "      <td>NaN</td>\n",
       "      <td>Trifolium ambiguum</td>\n",
       "      <td>2023-08-09</td>\n",
       "      <td>Trifolium ambiguum</td>\n",
       "    </tr>\n",
       "    <tr>\n",
       "      <th>20272</th>\n",
       "      <td>Nutzung</td>\n",
       "      <td>Kaukasischer Klee wird vor allem in Osteuropa ...</td>\n",
       "      <td>NaN</td>\n",
       "      <td>Trifolium ambiguum</td>\n",
       "      <td>2023-08-09</td>\n",
       "      <td>Trifolium ambiguum</td>\n",
       "    </tr>\n",
       "    <tr>\n",
       "      <th>20273</th>\n",
       "      <td>Literatur</td>\n",
       "      <td>Michael Zohary, David Heller: The Genus Trifol...</td>\n",
       "      <td>NaN</td>\n",
       "      <td>Trifolium ambiguum</td>\n",
       "      <td>2023-08-09</td>\n",
       "      <td>Trifolium ambiguum</td>\n",
       "    </tr>\n",
       "    <tr>\n",
       "      <th>20274</th>\n",
       "      <td>Weblinks</td>\n",
       "      <td>\\nEintrag der Gattung im LegumeWeb\\n\\n\\n== Ein...</td>\n",
       "      <td>NaN</td>\n",
       "      <td>Trifolium ambiguum</td>\n",
       "      <td>2023-08-09</td>\n",
       "      <td>Trifolium ambiguum</td>\n",
       "    </tr>\n",
       "  </tbody>\n",
       "</table>\n",
       "<p>20275 rows × 6 columns</p>\n",
       "</div>"
      ],
      "text/plain": [
       "               WIKI_id                                        description  \\\n",
       "0              Summary  Macadamia integrifolia ist eine Pflanzenart au...   \n",
       "1         Beschreibung  Macadamia integrifolia wÃ¤chst als Baum und er...   \n",
       "2          Verbreitung  Macadamia integrifolia ist in einem kleinen Ge...   \n",
       "3           Verwendung  Die Samen von Macadamia integrifolia sind essb...   \n",
       "4      Einzelnachweise                                 \\n\\n== Weblinks ==   \n",
       "...                ...                                                ...   \n",
       "20270     Beschreibung  Der Kaukasische Klee ist eine ausdauernde, kra...   \n",
       "20271      Verbreitung  Kaukasischer Klee ist auf GerÃ¶llfeldern, an W...   \n",
       "20272          Nutzung  Kaukasischer Klee wird vor allem in Osteuropa ...   \n",
       "20273        Literatur  Michael Zohary, David Heller: The Genus Trifol...   \n",
       "20274         Weblinks  \\nEintrag der Gattung im LegumeWeb\\n\\n\\n== Ein...   \n",
       "\n",
       "       source                    name Date Retrieved           Binomial Name  \n",
       "0         NaN  Macadamia integrifolia     2023-08-09  Macadamia integrifolia  \n",
       "1         NaN  Macadamia integrifolia     2023-08-09  Macadamia integrifolia  \n",
       "2         NaN  Macadamia integrifolia     2023-08-09  Macadamia integrifolia  \n",
       "3         NaN  Macadamia integrifolia     2023-08-09  Macadamia integrifolia  \n",
       "4         NaN  Macadamia integrifolia     2023-08-09  Macadamia integrifolia  \n",
       "...       ...                     ...            ...                     ...  \n",
       "20270     NaN      Trifolium ambiguum     2023-08-09      Trifolium ambiguum  \n",
       "20271     NaN      Trifolium ambiguum     2023-08-09      Trifolium ambiguum  \n",
       "20272     NaN      Trifolium ambiguum     2023-08-09      Trifolium ambiguum  \n",
       "20273     NaN      Trifolium ambiguum     2023-08-09      Trifolium ambiguum  \n",
       "20274     NaN      Trifolium ambiguum     2023-08-09      Trifolium ambiguum  \n",
       "\n",
       "[20275 rows x 6 columns]"
      ]
     },
     "execution_count": 10,
     "metadata": {},
     "output_type": "execute_result"
    }
   ],
   "source": [
    "df_WIKI_DE"
   ]
  },
  {
   "cell_type": "code",
   "execution_count": 11,
   "id": "0621f201",
   "metadata": {},
   "outputs": [
    {
     "name": "stdout",
     "output_type": "stream",
     "text": [
      "Initial Number of Categories: 1361\n"
     ]
    }
   ],
   "source": [
    "print(\"Initial Number of Categories:\", df_WIKI_DE[\"WIKI_id\"].nunique())"
   ]
  },
  {
   "attachments": {},
   "cell_type": "markdown",
   "id": "afce28fd",
   "metadata": {},
   "source": [
    "# Preprocessing"
   ]
  },
  {
   "attachments": {},
   "cell_type": "markdown",
   "id": "7d12b548",
   "metadata": {},
   "source": [
    "## 1. Remove artifacts and accents from text\n",
    "Such as $<p>, \\&nbsp, <i>, <b>, <br>, <em>, _x000D_, \", ', $"
   ]
  },
  {
   "cell_type": "code",
   "execution_count": 13,
   "id": "c9da43ba",
   "metadata": {},
   "outputs": [],
   "source": [
    "df_WIKI_ES.loc[:, \"prep_description_1\"] = df_WIKI_ES[\"description\"].apply(remove_artifacts)\n",
    "df_WIKI_ES.loc[:, \"prep_description_1\"] = df_WIKI_ES[\"prep_description_1\"].apply(unidecode.unidecode)\n",
    "\n",
    "df_WIKI_DE.loc[:, \"prep_description_1\"] = df_WIKI_DE[\"description\"].apply(remove_artifacts)\n",
    "df_WIKI_DE.loc[:, \"prep_description_1\"] = df_WIKI_DE[\"prep_description_1\"].apply(unidecode.unidecode)"
   ]
  },
  {
   "attachments": {},
   "cell_type": "markdown",
   "id": "f2c1100f",
   "metadata": {},
   "source": [
    "## 2. Remove digits, punctuation, lowercase & tokenize"
   ]
  },
  {
   "cell_type": "code",
   "execution_count": 14,
   "id": "3652db21",
   "metadata": {},
   "outputs": [],
   "source": [
    "df_WIKI_ES.loc[:, \"QA_description\"] = df_WIKI_ES[\"prep_description_1\"].apply(lambda x: preprocess_description(x, False, False))\n",
    "df_WIKI_ES.loc[:, \"BERT_description\"] = df_WIKI_ES[\"prep_description_1\"].apply(lambda x: preprocess_description(x, True, False))\n",
    "df_WIKI_ES.loc[:, \"BOW_description\"] = df_WIKI_ES[\"prep_description_1\"].apply(lambda x: preprocess_description(x, True, True))\n",
    "\n",
    "df_WIKI_DE.loc[:, \"QA_description\"] = df_WIKI_DE[\"prep_description_1\"].apply(lambda x: preprocess_description(x, False, False))\n",
    "df_WIKI_DE.loc[:, \"BERT_description\"] = df_WIKI_DE[\"prep_description_1\"].apply(lambda x: preprocess_description(x, True, False))\n",
    "df_WIKI_DE.loc[:, \"BOW_description\"] = df_WIKI_DE[\"prep_description_1\"].apply(lambda x: preprocess_description(x, True, True))"
   ]
  },
  {
   "attachments": {},
   "cell_type": "markdown",
   "id": "93dc3927",
   "metadata": {},
   "source": [
    "# Save Data"
   ]
  },
  {
   "cell_type": "code",
   "execution_count": 15,
   "id": "f9966313",
   "metadata": {
    "ExecuteTime": {
     "end_time": "2022-07-04T12:21:58.017050Z",
     "start_time": "2022-07-04T12:20:21.521280Z"
    }
   },
   "outputs": [],
   "source": [
    "df_WIKI_ES.to_excel(\"..//Datasets//Preprocessed Databases//WIKI_preprocessed_descriptions_ESP.xlsx\", index = False)\n",
    "df_WIKI_DE.to_excel(\"..//Datasets//Preprocessed Databases//WIKI_preprocessed_descriptions_DE.xlsx\", index = False)"
   ]
  }
 ],
 "metadata": {
  "kernelspec": {
   "display_name": "Python 3 (ipykernel)",
   "language": "python",
   "name": "python3"
  },
  "language_info": {
   "codemirror_mode": {
    "name": "ipython",
    "version": 3
   },
   "file_extension": ".py",
   "mimetype": "text/x-python",
   "name": "python",
   "nbconvert_exporter": "python",
   "pygments_lexer": "ipython3",
   "version": "3.9.13"
  },
  "toc": {
   "base_numbering": 1,
   "nav_menu": {},
   "number_sections": true,
   "sideBar": true,
   "skip_h1_title": false,
   "title_cell": "Table of Contents",
   "title_sidebar": "Contents",
   "toc_cell": false,
   "toc_position": {
    "height": "calc(100% - 180px)",
    "left": "10px",
    "top": "150px",
    "width": "341.333px"
   },
   "toc_section_display": true,
   "toc_window_display": true
  },
  "varInspector": {
   "cols": {
    "lenName": 16,
    "lenType": 16,
    "lenVar": 40
   },
   "kernels_config": {
    "python": {
     "delete_cmd_postfix": "",
     "delete_cmd_prefix": "del ",
     "library": "var_list.py",
     "varRefreshCmd": "print(var_dic_list())"
    },
    "r": {
     "delete_cmd_postfix": ") ",
     "delete_cmd_prefix": "rm(",
     "library": "var_list.r",
     "varRefreshCmd": "cat(var_dic_list()) "
    }
   },
   "types_to_exclude": [
    "module",
    "function",
    "builtin_function_or_method",
    "instance",
    "_Feature"
   ],
   "window_display": false
  }
 },
 "nbformat": 4,
 "nbformat_minor": 5
}
